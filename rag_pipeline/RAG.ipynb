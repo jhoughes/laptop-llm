{
 "cells": [
  {
   "cell_type": "markdown",
   "metadata": {},
   "source": [
    "### Installation"
   ]
  },
  {
   "cell_type": "code",
   "execution_count": null,
   "metadata": {},
   "outputs": [],
   "source": [
    "\n",
    "# %pip install langchain langchain-community python_dotenv\n",
    "# %pip install langchain-openai\n",
    "\n",
    "# %pip install pandas numpy\n",
    "# %pip install streamlit\n",
    "\n",
    "# %pip install \"unstructured[all-docs]<=0.16.10\"\n",
    "# %pip install langchain_postgres\n",
    "\n",
    "# %pip install redis>=4.1.0"
   ]
  },
  {
   "cell_type": "markdown",
   "metadata": {},
   "source": [
    "### Import Libraries"
   ]
  },
  {
   "cell_type": "code",
   "execution_count": 53,
   "metadata": {},
   "outputs": [],
   "source": [
    "from unstructured.partition.pdf import partition_pdf\n",
    "from langchain_openai import ChatOpenAI\n",
    "from langchain_core.messages import SystemMessage, HumanMessage\n",
    "from langchain_core.prompts import ChatPromptTemplate\n",
    "from langchain_core.output_parsers import StrOutputParser\n",
    "from langchain.schema.runnable import RunnablePassthrough,RunnableLambda\n",
    "\n",
    "from langchain_postgres.vectorstores import PGVector\n",
    "from database import COLLECTION_NAME, CONNECTION_STRING\n",
    "from langchain_community.storage import RedisStore\n",
    "from langchain.schema.document import Document\n",
    "from langchain_openai import OpenAIEmbeddings\n",
    "from langchain.retrievers.multi_vector import MultiVectorRetriever\n",
    "from pathlib import Path\n",
    "from IPython.display import display, HTML, Markdown\n",
    "from base64 import b64decode\n",
    "import os, hashlib, shutil, uuid, json, time\n",
    "import torch, redis, streamlit as st\n",
    "import logging\n",
    "# Initialize Redis client\n",
    "client = redis.Redis(host=\"localhost\", port=6379, db=0)"
   ]
  },
  {
   "cell_type": "code",
   "execution_count": 54,
   "metadata": {},
   "outputs": [
    {
     "data": {
      "text/plain": [
       "True"
      ]
     },
     "execution_count": 54,
     "metadata": {},
     "output_type": "execute_result"
    }
   ],
   "source": [
    "from dotenv import load_dotenv\n",
    "load_dotenv()"
   ]
  },
  {
   "cell_type": "code",
   "execution_count": 55,
   "metadata": {},
   "outputs": [],
   "source": [
    "FILE_PATH = Path(\"data/hbspapers_48__1.pdf\")"
   ]
  },
  {
   "cell_type": "markdown",
   "metadata": {},
   "source": [
    "### Data Loading"
   ]
  },
  {
   "cell_type": "markdown",
   "metadata": {},
   "source": [
    "Partition tables and text into chunks"
   ]
  },
  {
   "cell_type": "code",
   "execution_count": 56,
   "metadata": {},
   "outputs": [],
   "source": [
    "\n",
    "def data_loading():\n",
    "\n",
    "    raw_pdf_elements = partition_pdf(\n",
    "        filename=FILE_PATH,\n",
    "\n",
    "        infer_table_structure=True,\n",
    "        strategy = \"hi_res\",\n",
    "\n",
    "        extract_image_block_types = [\"Image\"],\n",
    "        extract_image_block_to_payload  = True,\n",
    "\n",
    "        chunking_strategy=\"by_title\",\n",
    "        mode='elements',\n",
    "        max_characters=10000,\n",
    "        new_after_n_chars=5000,\n",
    "        combine_text_under_n_chars=2000,\n",
    "        image_output_dir_path=\"data/\",\n",
    "    )\n",
    "    return raw_pdf_elements"
   ]
  },
  {
   "cell_type": "code",
   "execution_count": 57,
   "metadata": {},
   "outputs": [],
   "source": [
    "pdf_elements = data_loading()"
   ]
  },
  {
   "cell_type": "code",
   "execution_count": 58,
   "metadata": {},
   "outputs": [
    {
     "data": {
      "text/plain": [
       "[<unstructured.documents.elements.CompositeElement at 0x752b5c50b110>,\n",
       " <unstructured.documents.elements.CompositeElement at 0x752b5c50aa80>,\n",
       " <unstructured.documents.elements.CompositeElement at 0x752b5c50bf50>,\n",
       " <unstructured.documents.elements.CompositeElement at 0x752b5c50af90>,\n",
       " <unstructured.documents.elements.CompositeElement at 0x752b5c50a3f0>,\n",
       " <unstructured.documents.elements.CompositeElement at 0x752b5c50a7e0>,\n",
       " <unstructured.documents.elements.CompositeElement at 0x752b94dddd00>,\n",
       " <unstructured.documents.elements.Table at 0x752b5c5083e0>,\n",
       " <unstructured.documents.elements.CompositeElement at 0x752b94e3a780>,\n",
       " <unstructured.documents.elements.Table at 0x752cb038c0e0>,\n",
       " <unstructured.documents.elements.CompositeElement at 0x752b94e69a90>,\n",
       " <unstructured.documents.elements.Table at 0x752b9292bce0>,\n",
       " <unstructured.documents.elements.CompositeElement at 0x752b50cf08f0>,\n",
       " <unstructured.documents.elements.Table at 0x752b94dcb200>,\n",
       " <unstructured.documents.elements.CompositeElement at 0x752b94dc99d0>,\n",
       " <unstructured.documents.elements.Table at 0x752b50931ee0>,\n",
       " <unstructured.documents.elements.CompositeElement at 0x752b50930fe0>,\n",
       " <unstructured.documents.elements.Table at 0x752b50933d40>,\n",
       " <unstructured.documents.elements.CompositeElement at 0x752b50932600>,\n",
       " <unstructured.documents.elements.CompositeElement at 0x752b5c50a540>]"
      ]
     },
     "execution_count": 58,
     "metadata": {},
     "output_type": "execute_result"
    }
   ],
   "source": [
    "pdf_elements"
   ]
  },
  {
   "cell_type": "code",
   "execution_count": 59,
   "metadata": {},
   "outputs": [],
   "source": [
    "tables = [element.metadata.text_as_html for element in pdf_elements if 'Table' in str(type(element))]\n",
    "text = [element.text for element in pdf_elements if 'CompositeElement' in str(type(element))]"
   ]
  },
  {
   "cell_type": "code",
   "execution_count": 60,
   "metadata": {},
   "outputs": [
    {
     "data": {
      "text/plain": [
       "['<table><tr><td/><td>Beef</td><td>Veal</td><td>Lamb</td><td>Mutton</td><td>Adult Australian RDI</td></tr><tr><td>Moisture (g)</td><td>73.1</td><td>74.8</td><td>72.9</td><td>73.2</td><td/></tr><tr><td>Protein (g)</td><td>23.2</td><td>24.8</td><td>21.9</td><td>21.5</td><td>46-64</td></tr><tr><td>Fat (g)</td><td>2.8</td><td>1.5</td><td>4.7</td><td>4.0</td><td>-</td></tr><tr><td>Energy (kJ)</td><td>498</td><td>477</td><td>546</td><td>514</td><td>6.5-15.8MJ</td></tr><tr><td>Cholesterol (mg)</td><td>50</td><td>51</td><td>66</td><td>66</td><td>-</td></tr><tr><td>Thiamin (mg)</td><td>0.04</td><td>0.06</td><td>0.12</td><td>0.16</td><td>1.1-1.2</td></tr><tr><td>Riboflavin (mg)</td><td>0.18</td><td>0.20</td><td>0.23</td><td>0.25</td><td>1.1-1.6</td></tr><tr><td>Niacin (mg)</td><td>5.0</td><td>16.0</td><td>5.2</td><td>8.0</td><td>14-16</td></tr><tr><td>Vitamin B6 (mg)</td><td>0.52</td><td>0.8</td><td>0.10</td><td>0.8</td><td>1.3-1.7</td></tr><tr><td>Vitamin B12 (ug)</td><td>2.5</td><td>1.6</td><td>0.96</td><td>2.8</td><td>2.4</td></tr><tr><td>Pantothenic acid (mg)</td><td>0.35</td><td>1.50</td><td>0.74</td><td>1.33</td><td>4-6</td></tr><tr><td>Vitamin A (ug)</td><td>&lt;5</td><td>&lt;5</td><td>8.6</td><td>7.8</td><td>700-900ug RE*</td></tr><tr><td>Beta-carotene (ug)</td><td>10</td><td>&lt;5</td><td>&lt;5</td><td>&lt;5</td><td>700-900pg RE*</td></tr><tr><td>Alpha-tocopherol (mg)</td><td>0.63</td><td>0.50</td><td>0.44</td><td>0.20</td><td>7-10</td></tr><tr><td>Sodium (mg)</td><td>51</td><td>51</td><td>69</td><td>71</td><td>460-920</td></tr><tr><td>Potassium (mg)</td><td>363</td><td>362</td><td>344</td><td>365</td><td>2800-3800</td></tr><tr><td>Calcium (mg)</td><td>4.5</td><td>6.5</td><td>7.2</td><td>6.6</td><td>1000-1300</td></tr><tr><td>Iron (mg)</td><td>1.8</td><td>1.1</td><td>2.0</td><td>3.3</td><td>8-18</td></tr><tr><td>Zinc (mg)</td><td>4.6</td><td>4.2</td><td>4.5</td><td>3.9</td><td>8-14</td></tr><tr><td>Magnesium (mg)</td><td>25</td><td>26</td><td>28</td><td>28</td><td>310-420</td></tr><tr><td>Phosphorus (mg)</td><td>215</td><td>260</td><td>194</td><td>290</td><td>1000</td></tr><tr><td>Copper (mg)</td><td>0.12</td><td>0.08</td><td>0.12</td><td>0.22</td><td>1.2-1.7</td></tr></table>',\n",
       " '<table><tr><td>Meat Cut</td><td>% Lean</td><td>% External Fat</td><td>% Internal Fat</td></tr><tr><td>Beef</td></tr><tr><td>Topside roast</td><td>91</td><td>6</td><td>3</td></tr><tr><td>Silverside roast</td><td>89</td><td/><td>4</td></tr><tr><td>Blade steak</td><td>88</td><td>6</td><td>6</td></tr><tr><td>Porterhouse steak</td><td>77</td><td>18</td><td>5</td></tr><tr><td>Stir fry</td><td>98</td><td>2</td><td>0</td></tr><tr><td>Scotch fillet</td><td>81</td><td/><td>11</td></tr><tr><td>Veal</td></tr><tr><td>Leg steak</td><td>99</td><td/><td>1</td></tr><tr><td>Diced</td><td>98</td><td/><td/></tr><tr><td>Cutlet</td><td>93</td><td>1</td><td/></tr><tr><td>Lamb</td></tr><tr><td>Leg roast</td><td>83</td><td>11</td><td>6</td></tr><tr><td>Chump chop</td><td>75</td><td>15</td><td>10</td></tr><tr><td>Diced</td><td>98</td><td>2</td><td>0</td></tr><tr><td>Easy carve shoulder</td><td>77</td><td>12</td><td>11</td></tr><tr><td>Loin chop</td><td>63</td><td>29</td><td>8</td></tr><tr><td>Mutton</td><td/><td/><td/></tr><tr><td>Leg</td><td>85</td><td>9</td><td/></tr></table>',\n",
       " '<table><tr><td>Meat Cut</td><td>Total fat (g)</td><td>Cholesterol (mg)</td></tr><tr><td>Beef</td></tr><tr><td>Diced, raw</td><td>2.7</td><td>54</td></tr><tr><td>Diced, cooked</td><td>3.0</td><td>77</td></tr><tr><td>Round steak, raw</td><td>1.7</td><td>62</td></tr><tr><td>Round steak, cooked</td><td>2.0</td><td>75</td></tr><tr><td>Topside roast, raw</td><td>47</td><td>35</td></tr><tr><td>Topside roast, cooked</td><td>2.8</td><td>62</td></tr><tr><td>Sirloin steak, raw</td><td>1.9</td><td>58</td></tr><tr><td>Sirloin steak, cooked</td><td>3.8</td><td>70</td></tr><tr><td>Scotch fillet, raw Scotch fillet, cooked</td><td>2.8 4.5</td><td>58 70</td></tr><tr><td>Regular mince, raw</td><td>10.8</td><td>76</td></tr><tr><td>Regular mince, cooked Low fat mince, raw</td><td>12.7 6.8</td><td>99 61</td></tr><tr><td>Leg steak, raw</td><td>1.5</td><td>57</td></tr><tr><td>Leg steak, cooked Cutlet, raw</td><td>1.9 1.1</td><td>85 35</td></tr><tr><td>Cutlet, cooked</td><td>2.0</td><td>41</td></tr><tr><td>Diced, raw</td><td>5.2</td><td>78</td></tr><tr><td>Diced, cooked</td><td>6.5</td><td>96</td></tr><tr><td>Leg roast, raw</td><td>3.2</td><td>71</td></tr><tr><td>Leg roast, cooked</td><td>6.0</td><td>80</td></tr><tr><td>Easy carve shoulder, raw</td><td>43</td><td>54</td></tr><tr><td>Easy carve shoulder, cooked</td><td>5.4</td><td>86</td></tr><tr><td>Chump chop, raw</td><td>4.3</td><td>73</td></tr><tr><td>Chump chop, cooked</td><td>10.2</td><td>93</td></tr><tr><td>Cutlet, raw</td><td>6.7</td><td>67</td></tr><tr><td>Cutlet, cooked</td><td>8.6</td><td>96</td></tr><tr><td>Lamb mince, raw</td><td>6.9</td><td>61</td></tr><tr><td>Lamb mince, cooked Mutton</td><td>8.5</td><td>93</td></tr><tr><td>Leg roast, raw</td><td>4.2</td><td>76</td></tr><tr><td>Leg roast, cooked</td><td>11.4</td><td>130</td></tr><tr><td>Casserole, raw Casserole, cooked</td><td>3.8 V7</td><td>56 63</td></tr></table>',\n",
       " '<table><tr><td>Fatty</td><td/><td>|</td><td>|</td><td>| |</td><td>chicken”</td><td>pork?</td><td>fish4</td><td>| Oily fish®</td></tr><tr><td>C14:0</td><td>0.096</td><td>| 0.034</td><td>| 0.101</td><td>0.060</td><td>0.020</td><td>0.010</td><td>0.020 |</td><td>0.680</td></tr><tr><td>C15:0</td><td>0.012</td><td>| 0.006</td><td>| 0.016</td><td>0.011</td><td>0.000</td><td>0.000</td><td>0.000 |</td><td>0.070</td></tr><tr><td>C16:0</td><td>0.607</td><td>| 0.215</td><td>| 0.842</td><td>0.667</td><td>0.340</td><td>0.250</td><td>0.180 |</td><td>2.170</td></tr><tr><td>C17:0</td><td>0.028</td><td>| 0.009</td><td>| 0.051</td><td>0.036</td><td>0.010</td><td>0.000</td><td>0.000 |</td><td>0.050</td></tr><tr><td>C18:0</td><td>0.356</td><td>| 0.119</td><td>| 0.644</td><td>0.609</td><td>0.120</td><td>0.130</td><td>0.050 |</td><td>0.350</td></tr><tr><td>Total saturated</td><td>1.149</td><td>| 0.409</td><td>| 1.730</td><td>1.464</td><td>0.500</td><td>0.400</td><td>0.300 |</td><td>3.320</td></tr><tr><td>C14:1</td><td>0.025</td><td>| 0.007</td><td>| 0.004</td><td>0.003</td><td>0.000</td><td>0.000</td><td>0.000 |</td><td>0.000</td></tr><tr><td>C16:1</td><td>0.082</td><td>| 0.033 |</td><td>0.066</td><td>0.039</td><td>0.004</td><td>0.030</td><td>0.060 |</td><td>0.590</td></tr><tr><td>C18:1</td><td>1.103</td><td>| 0.356</td><td>| 1.995</td><td>1.370</td><td>0.620</td><td>0.390</td><td>0.110 |</td><td>2.190</td></tr><tr><td>C20:1</td><td>0.015</td><td>| 0.048</td><td>| 0.010</td><td>0.011</td><td>0.010</td><td>0.010</td><td>0.010 |</td><td>1.340</td></tr><tr><td>Total monounsaturated</td><td>1.205</td><td>| 0.399</td><td>| 2.066</td><td>1.413</td><td>0.700</td><td>0.430</td><td>0.200 |</td><td>5.390</td></tr><tr><td>C18:2 w-6</td><td>0.204</td><td>| 0.090</td><td>| 0.321</td><td>0.339</td><td>0.210</td><td>0.120</td><td>0.010 |</td><td>0.250</td></tr><tr><td>C18:3 w-3</td><td>0.048</td><td>| 0.022</td><td>| 0.072</td><td>0.107</td><td>0.010</td><td>0.010</td><td>0.000 |</td><td>0.130</td></tr><tr><td>C20:3 w-6</td><td>0.020</td><td>| 0.012</td><td>| 0.009</td><td>0.009</td><td>0.008</td><td>0.003</td><td>0.000 |</td><td>0.000</td></tr><tr><td>C20:4 w-6</td><td>0.076</td><td>| 0.056</td><td>| 0.094</td><td>0.101</td><td>0.030</td><td>0.019</td><td>0.040 |</td><td>0.050</td></tr><tr><td>C20:5 @-3 (EPA)</td><td>0.031</td><td>| 0.028</td><td>| 0.028</td><td>0.044</td><td>0.005</td><td>0.000</td><td>0.048 |</td><td>0.913</td></tr><tr><td>C22:5 w-3 (DPA)</td><td>0.051</td><td>| 0.033</td><td>| 0.044</td><td>0.053</td><td>0.009</td><td>0.006</td><td>0.021 |</td><td>0.194</td></tr><tr><td>C22:6 w-3 (DHA)</td><td>0.006</td><td>| 0.003</td><td>| 0.013</td><td>0.020</td><td>0.009</td><td>0.004</td><td>0.111 |</td><td>1.118</td></tr><tr><td>Total polyunsaturated</td><td>0.448</td><td>| 0.259</td><td>| 0.603</td><td>0.673</td><td>0.300</td><td>0.200</td><td>0.200 |</td><td>2.655</td></tr><tr><td>Total w-3</td><td>0.136</td><td>| 0.086</td><td>| 0.157</td><td>0.224</td><td>0.033</td><td>0.020</td><td>0.180 |</td><td>2.355</td></tr><tr><td>Total o-6</td><td>0.300</td><td>| 0.244</td><td>| 0.424</td><td>0.449</td><td>0.258</td><td>0.148</td><td>0.050 |</td><td>0.250</td></tr><tr><td>Ratio w-3/ o-6</td><td>0.45</td><td>0.36</td><td>0.37</td><td>0.50</td><td>0.13</td><td>0.14</td><td>3.60</td><td>10.42</td></tr></table>',\n",
       " '<table><tr><td/><td>Liver</td><td>Kidney</td><td>Heart</td><td/><td>Brain</td><td>Tripe Beef</td></tr><tr><td/><td>Beef</td><td>Lamb</td><td>Beef</td><td>Lamb</td><td>Beef</td><td>Lamb</td><td>Lamb</td></tr><tr><td>Protein (g)</td><td>20.0</td><td>21.4</td><td>18.2</td><td>17.1</td><td>18.2</td><td>17.8</td><td>12.3</td><td>13.2</td></tr><tr><td>Fat (g)</td><td>8.6</td><td>7.5</td><td>1.6</td><td>2.5</td><td>3.0</td><td>5.6</td><td>8.0</td><td>2.1</td></tr><tr><td>Saturated fat (g)</td><td>2.8</td><td>2.2</td><td>0.6</td><td>0.9</td><td>1.2</td><td>2.3</td><td>2.2</td><td>0.9</td></tr><tr><td>Long-chain omega-3 fat (mg)</td><td>561</td><td>361</td><td>47</td><td>103</td><td>54</td><td>102</td><td>574</td><td>20</td></tr><tr><td>Cholesterol (mg)</td><td>271</td><td>433</td><td>313</td><td>338</td><td>103</td><td>129</td><td>1352</td><td>82</td></tr><tr><td>Thiamin (mg)</td><td>0.23</td><td>0.24</td><td>0.40</td><td>0.56</td><td>0.50</td><td>0.61</td><td>0.14</td><td>0</td></tr><tr><td>Riboflavin (mg)</td><td>4.80</td><td>2.80</td><td>3.60</td><td>2.10</td><td>1.50</td><td>1.10</td><td>0.40</td><td>0.10</td></tr><tr><td>Niacin (mg)</td><td>9.4</td><td>10.9</td><td>6.5,</td><td>7.6</td><td>6.9</td><td>5.9</td><td>5.1</td><td>0.2</td></tr><tr><td>Folate (ug)</td><td>290</td><td>230</td><td>98</td><td>28</td><td>3</td><td>2</td><td>3</td><td>5</td></tr><tr><td>Vitamin B12 (ug)</td><td>59</td><td>90</td><td>28</td><td>52</td><td>9</td><td>10</td><td>11</td><td>1</td></tr><tr><td>Retinol equivalents (ug)</td><td>13877</td><td>31400</td><td>155</td><td>93</td><td>10</td><td>0</td><td>0</td><td>0</td></tr><tr><td>Zinc (mg)</td><td>3.6</td><td>4.3</td><td>1.8</td><td>2.6</td><td>1.6</td><td>1.6</td><td>1.1</td><td>1.2</td></tr><tr><td>Iron (mg)</td><td>5.8</td><td>9.5,</td><td>5.4</td><td>9.8</td><td>5.0</td><td>3.9</td><td>1.7</td><td>0.4</td></tr><tr><td>Magnesium (mg)</td><td>15</td><td>19</td><td>15</td><td>16</td><td>17</td><td>17</td><td>12</td><td>6</td></tr><tr><td>Sodium (mg)</td><td>78</td><td>67</td><td>160</td><td>190</td><td>91</td><td>82</td><td>120</td><td>100</td></tr><tr><td>Potassium (mg)</td><td>320</td><td>300</td><td>250</td><td>260</td><td>280</td><td>260</td><td>340</td><td>23</td></tr></table>',\n",
       " '<table><tr><td/><td>RDI/AI for male 31-50y</td><td>Beef\"</td><td>Lamb’</td><td>Egg”</td><td>Cheddar cheese”</td><td>| Baked beans | salt reduced”</td><td>Walnuts”</td></tr><tr><td>Protein</td><td>64g</td><td>36</td><td>34</td><td>21</td><td>40</td><td>7</td><td>23</td></tr><tr><td>Long-chain omega-3 fat</td><td>160mg</td><td>50</td><td>53</td><td>111</td><td>55</td><td>0</td><td>0</td></tr><tr><td>Thiamin</td><td>1.2mg</td><td>3</td><td>8</td><td>8</td><td>3</td><td>4</td><td>28</td></tr><tr><td>Riboflavin</td><td>1.3mg</td><td>25</td><td>15</td><td>31</td><td>39</td><td>0</td><td>14</td></tr><tr><td>Niacin</td><td>16mg</td><td>31</td><td>70</td><td>0</td><td>&lt;l</td><td>5</td><td>9</td></tr><tr><td>Vitamin B6</td><td>1.3mg</td><td>23</td><td>43</td><td>5</td><td>6</td><td>8</td><td>33</td></tr><tr><td>Vitamin B12</td><td>2.4ug</td><td>79</td><td>71</td><td>58</td><td>35</td><td>0</td><td>0</td></tr><tr><td>Pantothenic acid</td><td>6mg</td><td>12</td><td>13</td><td>34</td><td>7</td><td>&lt;l</td><td>11</td></tr><tr><td>Vitamin A</td><td>900ug</td><td>&lt;l</td><td>&lt;l</td><td>25</td><td>43</td><td>&lt;l</td><td>&lt;l</td></tr><tr><td>Vitamin E</td><td>10mg</td><td>7</td><td>5</td><td>22</td><td>40</td><td>1</td><td>26</td></tr><tr><td>Phosphorus</td><td>1000mg</td><td>22</td><td>23</td><td>20</td><td>47</td><td>8</td><td>37</td></tr><tr><td>Zinc</td><td>14mg</td><td>30</td><td>31</td><td>9</td><td>26</td><td>4</td><td>18</td></tr><tr><td>Iron</td><td>8mg</td><td>24</td><td>25</td><td>26</td><td>3</td><td>20</td><td>31</td></tr><tr><td>Magnesium</td><td>420mg</td><td>6</td><td>6</td><td>2</td><td>7</td><td>6</td><td>36</td></tr><tr><td>Selenium</td><td>70ug</td><td>29</td><td>21</td><td>37</td><td>15</td><td>5</td><td>3</td></tr><tr><td>Sodium</td><td>920mg</td><td>6</td><td>7</td><td>13</td><td>72</td><td>23</td><td>&lt;1</td></tr><tr><td>Potassium</td><td>3800mg</td><td>9</td><td>9</td><td>3</td><td>2</td><td>6</td><td>12</td></tr></table>']"
      ]
     },
     "execution_count": 60,
     "metadata": {},
     "output_type": "execute_result"
    }
   ],
   "source": [
    "tables"
   ]
  },
  {
   "cell_type": "code",
   "execution_count": 61,
   "metadata": {},
   "outputs": [
    {
     "data": {
      "text/plain": [
       "{'filetype': 'application/pdf',\n",
       " 'languages': ['eng'],\n",
       " 'last_modified': '2025-04-07T16:53:41',\n",
       " 'page_number': 1,\n",
       " 'orig_elements': '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',\n",
       " 'file_directory': 'data',\n",
       " 'filename': 'hbspapers_48__1.pdf'}"
      ]
     },
     "execution_count": 61,
     "metadata": {},
     "output_type": "execute_result"
    }
   ],
   "source": [
    "pdf_elements[0].metadata.to_dict()"
   ]
  },
  {
   "cell_type": "code",
   "execution_count": 62,
   "metadata": {},
   "outputs": [
    {
     "data": {
      "text/plain": [
       "['University of Wollongong\\n\\nResearch Online\\n\\nFaculty of Health and Behavioural Sciences - Papers (Archive)\\n\\nFaculty of Science, Medicine and Health\\n\\nSeptember 2007\\n\\nNutritional composition of red meat\\n\\nP. G. Williams University of Wollongong, peterw@uow.edu.au\\n\\nFollow this and additional works at: https://ro.uow.edu.au/hbspapers\\n\\nPart of the Arts and Humanities Commons, Life Sciences Commons, Medicine and Health Sciences Commons, and the Social and Behavioral Sciences Commons\\n\\nRecommended Citation\\n\\nWilliams, P. G.: Nutritional composition of red meat 2007. https://ro.uow.edu.au/hbspapers/48\\n\\nResearch Online is the open access institutional repository for the University of Wollongong. For further information contact the UOW Library: research-pubs@uow.edu.au\\n\\nNutritional composition of red meat\\n\\nAbstract\\n\\nLean red meats are: • An excellent source of high biological value protein, vitamin B12, niacin, vitamin B6, iron, zinc and phosphorus • A source of long-chain omega-3 polyunsaturated fats, riboflavin, pantothenic acid, selenium and possibly also vitamin D • Mostly low in fat and sodium • Sources of a range of endogenous antioxidants and other bioactive substances including taurine, carnitine, carnosine, ubiquinone, glutathione and creatine.\\n\\nKeywords\\n\\nred meat, nutrients, beef, lamb, mutton, veal\\n\\nDisciplines\\n\\nArts and Humanities | Life Sciences | Medicine and Health Sciences | Social and Behavioral Sciences\\n\\nPublication Details\\n\\nThis article was originally published as: Williams, PG, Nutritional composition of red meat, Nutrition & Dietetics, 2007, 64(Suppl 4), S113-S119. The definitive version is available at www.blackwell-synergy.com. Nutrition & Dietetics is the official journal of the Dietitians Association of Australia. Copyright 2007 Blackwell Publishing.\\n\\nThis journal article is available at Research Online: https://ro.uow.edu.au/hbspapers/48\\n\\nThe Nutritional Composition of Red Meat\\n\\nAssoc Prof Peter Williams PhD FDAA\\n\\nSmart Foods Centre, University of Wollongong',\n",
       " 'Key Points\\n\\nLean red meats are:\\n\\ne Anexcellent source of high biological value protein, vitamin B12, niacin, vitamin B6, iron, zinc and phosphorus\\n\\ne A source of long-chain omega-3 polyunsaturated fats, riboflavin, pantothenic acid, selenium and possibly also vitamin D\\n\\ne Mostly low in fat and sodium\\n\\ne Sources of a range of endogenous antioxidants and other bioactive substances including taurine, carnitine, carnosine, ubiquinone, glutathione and creatine.\\n\\n1) What is meat?\\n\\nThe Food Standards Australia New Zealand (FSANZ) Food Standard Code defines meat as ‘the whole or part of the carcass of any buffalo, camel, cattle, deer, goat, hare, pig, poultry, rabbit or sheep, slaughtered other than in a wild state, but does not include eggs, or foetuses’ [1]. This definition does not include kangaroo meat, which is now widely available for purchase in Australia and would be considered by most Australians as meat.\\n\\nCommonly people use ‘meat’ to refer only to meat flesh (skeletal muscle plus any attached connective tissue or fat), but the FSANZ definition also includes offal (ie, meat other than meat flesh, including brain, heart, kidney, liver, pancreas, spleen, thymus, tongue and tripe) although it excludes bone and bone marrow.\\n\\nIn Australia, the term ‘red meat’ is used by the meat industry to refer to meat from cattle, sheep and goat (ie beef, veal, lamb, mutton and goat meat). It does not include meat from pigs (eg, pork, bacon, ham) or kangaroo, nor less common game meats like buffalo and camel, although nutrient composition of some of these products is now becoming available [2]. Purchased red meat usually consists of both lean tissue (muscle) and fat tissue, which can be either distributed throughout the muscle as marbling (internal fat) or surrounding the muscle meat as selvage or external fat. In trimmed lean meat, it is usually the external fat only that is removed.\\n\\nProcessed meat means a product containing no less than 30% meat, that has undergone a method of preservation other than freezing, and includes manufactured meat and cured and/or dried meat flesh (eg, sausages, salami, canned meats).',\n",
       " '2) Nutrient composition of red meat\\n\\nRed meat contains high biological value protein and important micronutrients that are needed for good health throughout life. It also contains a range of fats, including essential omega-3 polyunsaturated fats. Recent analyses have shown that there has been a significant trend to leaner cuts of meat over the past two decades [3]. While the nutritional composition will vary somewhat according to breed, feeding regimen, season and meat cut, in general lean red meat has a low fat content, is moderate in cholesterol and rich in protein and many essential vitamins and minerals.\\n\\n1\\n\\n2.1 Nutrient composition of beef, veal, lamb and mutton\\n\\nTable 1 presents the typical nutrient composition of samples of fat-trimmed Australian red meat, based on recent analyses of national retail samples [4-6] and compares this to the new Australian recommended dietary intakes [7]. While there are some differences between the four meats, in general lean red meat is a particularly good source of protein, niacin, vitamin B6, vitamin B12, phosphorus, zinc and iron, with 100g providing more than 25% RDI of these nutrients. It also provides more than 10% RDI of riboflavin, pantothenic acid, and selenium. Of the four meats, mutton is particularly nutrient dense, and the richest source of thiamin, vitamins B6 and B12, phosphorus, iron and copper.\\n\\nProtein and amino acids\\n\\nRaw red muscle meat contains around 20-25g protein/100g. Cooked red meat contains 28- 36g/100g, because the water content decreases and nutrients become more concentrated during cooking. The protein is highly digestible, around 94% compared to the digestibility of 78% in beans and 86% in whole wheat [8]. Protein from meat provides all essential amino acids (lysine, threonine, methionine, phenylalanine, tryptophan, leucine, isoleucine, valine) and has no limiting amino acids. Protein Digestibility Corrected Amino Acid Score (PDCAAS) is a method of evaluating the protein quality, with a maximum possible score of 1.0. Animal meats like beef have a score of approximately 0.9, compared to values of 0.5-0.7 for most plant foods [9]. The amino acid glutamic acid/glutamine is present in meat in the highest amounts (16.5%), followed by arginine, alanine, and aspartic acid.',\n",
       " 'Fat\\n\\nTable 2 shows examples of the amount of separable fat found on typical retail cuts of red meat available for sale in Australia [3, 10]. There is a wide variation in the amount of total separable fat between the different beef and lamb cuts, ranging from 37% in loin lamb chops to only 1% in veal steak.\\n\\nThe gross composition values show that there generally appears to be less separable fat in the untrimmed raw retail samples collected in 2002 compared to those reported from 1983-86 [11, 12]. For example, the percentage separable fat has declined from 18% to 12% in rump steak and from 10% to 6.6% in fillet steak. This trend to lower fat cuts has been due to three factors: selective breeding and feeding practices designed to increase the carcase lean to fat ratio; meat classification and marketing systems designed to favour leaner products; and modern butchery techniques such as seaming out whole muscles and trimming away intermuscular fat [13].\\n\\nMost Australian consumers today prepare and consume their meat after trimming external fat, and the most recent nutritional analyses show that all trimmed lean red meats are relatively low in fat (<7%) and have moderate cholesterol content, with the exception of mince meats (Table 3). An important contributor to the leanness of muscle meat in Australian beef and lamb is that almost all animals are pasture (grass) fed for most of their lives, although some are given short periods of grain finishing before slaughter.\\n\\nFatty acids\\n\\nMuch of the discussion about the fat content of red meat focuses on the saturated fat content. However, the amount of saturated fat in Australian beef and lamb is actually less than the total amount of unsaturated fats on a per edible portion basis.\\n\\n2\\n\\nTable 4 shows the average fatty acid profiles of beef, veal, lamb and mutton compared to other white meats and fish. Saturated fatty acids comprise, on average, 40% of total fatty acids in the lean component and 48% in the fat component of red meat. In beef and veal, approximately half of the saturated fatty acid in both the lean and fat component of red meat is palmitic acid (16:0) and about a third is stearic acid (18:0). In lamb and mutton the proportions of these two fatty acids is more similar. There is little variation between cuts in the proportion of fatty acids.\\n\\nPolyunsaturated fatty acids (PUFA) range from 11% to 29% of total fatty acids. Pasture fed beef is better source of omega-3 fats than grain feed beef, and this explains the better fatty acid ratio in Australian red meat compared to that in the US, where there is extensive grain feeding [14, 15]. Beef and lamb also have more omega-3 fatty acids than either chicken or pork, although fish is still a significantly better source than any of the red meats.\\n\\nThe recent revision of the recommended dietary intakes for Australians recommended a daily adequate intake of long-chain omega-3 fats (DHA, EPA and DPA) of 160mg for men and 90mg for women, with higher targets of 610mg and 430mg respectively to reduce the risk of long term chronic disease [7]. Since the levels of long chain PUFA found in Australian beef, veal and lamb muscle meat are greater than 30mg per serving (135g) of red meat, they are considered a source of long chain n-3 PUFA according to Australian food regulations (Food Standards Australia New Zealand 2004). Mutton muscle meat, which has more than 60mg EPA + DHA per serving of red meat, can be described as a good source of long chain n-3 polyunsaturated fats. Red meat is frequently consumed by Australians and makes the second greatest contribution to intake of long chain n-3 PUFA, after fish, in the Australian diet [16].\\n\\nTrans fatty acids\\n\\nTrans fatty acids are found in ruminant fat as a result of biohydrogenation by rumen bacteria. Trans fatty acids (18:1 trans) in raw muscle meat varies from as little as 22mg/100g in veal to 123mg in lamb, but is generally less than 3% of the total fatty acid content [17]. Levels in both raw and cooked muscle meat are higher in lamb and mutton than in beef and veal.\\n\\nCholine\\n\\nCholine is a precursor of a number of compounds including neurotransmitters and membrane phospholipids. Although choline can be made in the body, dietary essentiality has been demonstrated and the new Australian nutrient reference values recommend an adequate intake of 550mg/d for men and 425mg/d for women [7]. The best dietary sources are milk, liver and eggs, but meat is also a significant source and beef contains 78mg/100g [18].\\n\\nVitamins\\n\\nAs with other animal foods, red meat is an excellent source of bioavailable vitamin B12, providing over two thirds of the daily requirement in a 100g serve (Table 1). Up to 25% RDI of riboflavin, niacin, vitamin B6 and pantothenic acid can also be provided by 100g of red meat, but compared to pork it is a relatively poor source of thiamin. Liver is an excellent source of vitamin A and folate, but the levels in lean meat tissue are low. For all these vitamins, older animals tend to have higher concentrations, so the levels in beef are generally higher than those in veal, and mutton has more than lamb. Levels of vitamin D in meat are low and difficult to measure and have often not been included in food composition data previously. However recent assays of meat in New Zealand have reported levels of 0.10µg Vitamin D3/100g and 0.45µg 25-OHD3/100g in beef and levels of 0.04 and 0.93 µg/100g\\n\\n3\\n\\nrespectively in lamb [19]. Given the higher biological activity of the 25-OH vitamin D, this means that 100g of cooked beef could provide 12% of the estimated adequate intake of 10µg/d for a 51-70 year old [7], and cooked lamb could provide more than 25%, and hence be an important source of this nutrient, especially for housebound elderly people.',\n",
       " 'Minerals\\n\\nBeef and lamb meat are among the richest sources of the minerals iron and zinc, with 100g providing at least one quarter of daily adult requirements (Table 1). The iron in meat is mostly haem-iron which is well absorbed, and meat protein also appears to enhance the absorption of iron from meat. Similarly, absorption of zinc from a diet high in animal protein is greater than from plant foods, and the requirements for zinc may be as much as 50% higher for vegetarians [7]. Red meats are also good sources of selenium, providing over 20% RDI per 100g serve, although it is likely that selenium values in meat will be significantly affected by where animals feed and the time of the year of sampling. Lean meat is low in sodium with a potassium/sodium ratio of greater than five. The copper content in raw lean cuts range from 0.055 to 0.190mg/100g in beef and veal, 0.090 to 0.140mg/100g in lamb, and 0.190 to 0.240mg/100g in mutton, all significantly higher than values reported in British meat [20].\\n\\n2.2 Meat based bioactive compounds\\n\\nIn addition to the traditional essential nutrients with defined requirements, there are a number of meat-based bioactive substances that have been studied for their potential beneficial effects [21].\\n\\nTaurine\\n\\nAn amino acid in meat of particular interest is taurine. Meat is rich in taurine (110mg/100g in lamb and 77mg/100g in beef) [22] and meat is the most abundant dietary source. While taurine can be derived from methionine and cysteine metabolism, there have been suggestions that it should be considered a conditionally essential amino acid during lactation, during times of immune challenge, and may offer protection against oxidative stress [23, 24].\\n\\nCarnitine\\n\\nL-carnitine (beta-hydroxy-gamma-trimethyl amino butyric acid) transports long chain fatty acids across the inner mitochondrial membranes to produce energy during exercise. Although not an essential nutrient, needs appear to be increased during pregnancy and after strenuous exercise and a recommended intake of 24-81mg/d has been proposed [25]. It is found in skeletal muscle and is particularly abundant in sheep muscle at up to 209mg/100g [26] and in beef at around 60mg/100g [27].\\n\\nConjugated linoleic acid (CLA)\\n\\nCLA has antioxidant and immunomodulatory properties and may also play a role in the control of obesity [28]. Since rumen bacteria convert linoleic acid to CLA, it is most abundant in the fat of ruminant animals, although CLA is also present in partially hydrogenated vegetable oils. The CLA content of meat is affected by several factors including breed, age and food composition [29]. It is mostly present in the fat component of red meat (approximately 1g/100g) but is also found in the muscle meat: 10-46mg/100g in raw meat and 30-100mg/100g in cooked red meat [17].\\n\\n4\\n\\nEndogenous antioxidants\\n\\nSeveral endogenous compounds (including ubiquinone, glutathione, lipoic acid, spermine, carnosine, anserine) have been studied in skeletal muscle [30]. Both carnosine and anserine are antioxidative histidyl dipeptides and the most abundant antioxidants in meat. Carnosine is present at around 365mg/100g in beef [31] and 400mg/100g in lamb [22]. Because carnosine is absorbed into the plasma intact, it is a potentially important dietary antioxidant [32]. Coenzyme Q10 (ubiquinone) also has antioxidant properties and supplements have shown beneficial effects in some studies [33]. Levels in meat are estimated to be around 2mg/100g in both beef and sheep meat [31]. Glutathione is a component of glutathione peroxidise enzymes which have an important antioxidant role in the body. It may also play a role in immune response and enhancing iron absorption by contributing to the ‘meat factor’. Glutathione levels in red meat are estimated to be 12-26mg/100g in beef [34] and most meats contain approximately twice the level of glutathione of poultry and up to ten times the content found in fish.',\n",
       " 'Creatine\\n\\nCreatine and its phosphorylated derivative creatine phosphate play an important role in muscle energy metabolism and under some circumstances creatine supplements can enhance muscle performance [35]. Red meat contains approximately 350mg/100g [31] and is the principal dietary source for humans. Creatine in meat is readily absorbed [36], but typical intakes are unlikely to provide the levels of creatine used for supplementation of sports performance (up to 15g/day).\\n\\n2.3 Nutrient composition of organ meats\\n\\nTable 5 provides a comparison of the nutrient content of liver, kidney, heart, brains and tripe from beef and lamb. From this table the following general statements can be made:\\n\\ne All organ meats (except tripe) are extremely rich in vitamin B12, with more than 100% RDI in 100g\\n\\nLiver is a rich source of protein iron, zinc, riboflavin, niacin, vitamin A, and folate\\n\\nKidney is rich in protein, thiamin, riboflavin, iron, and a source of folate\\n\\nHeart is a good source of iron and zinc, but not as good as liver and kidney\\n\\nBrains and tripe are not particularly good sources of vitamins or minerals\\n\\nAll organs meats are high in cholesterol, especially brains, and mostly low in sodium\\n\\nLiver is such a rich source of retinol that consumption of large amounts is not recommended in pregnancy.\\n\\n3) Comparison of the composition of red meat and vegetarian protein sources\\n\\nThe Australian Guide to Health Eating recommends a healthy diet include 1-2 serves per day of meat or equivalents such as eggs, nuts or legumes [37]. However the vegetarian alternatives that are used as protein sources have very different nutritional profiles to red meat, as show in Table 6, which compares the percentage of an adult male daily requirement provided by 100g of food. Lean beef and lamb are better protein sources than all the options except cheese, and are mostly lower in sodium. The meats are higher in zinc and niacin than all the alternatives and also higher in omega-3 fats than the vegetable sources; a better source of vitamin B6 (except for the walnuts); richer in selenium (except in comparison to eggs); and are the best source of vitamin B12, which is absent entirely from the vegetable products. Egg, cheese and nuts are also much higher sources of total fat than lean beef or lamb.\\n\\n5',\n",
       " 'Table 1. Nutrient composition (per 100g) of lean red meat [4-6]',\n",
       " '*RE = retinol equivalents (= 1 µg retinol or 6 µg or beta-carotene)\\n\\n6\\n\\nTable 2 – Lean and separable fat from untrimmed raw boneless Australian red meat (mean weight) [3, 10]',\n",
       " '7\\n\\nTable 3 – Fat and cholesterol content of trimmed raw and cooked Australian red meat [4]',\n",
       " 'Casserole, cooked\\n\\n7.7\\n\\n63\\n\\n8\\n\\nTable 4. Fatty acid profile of raw lean meats (g/100g edible portion)\\n\\nBeef1\\n\\nVeal1\\n\\nLamb1 Mutton1',\n",
       " '1. Average values from 2002 analyses of Australian red meat [17]\\n\\n2. Values for raw lean chicken breast from NUTTAB 2006 [38]\\n\\n3. Values for raw lean pork fillet from NUTTAB 2006 [38]\\n\\n4. Values for raw flathead from NUTTAB 2006 [38]\\n\\n5. Values for canned red salmon from NUTTAB 2006 [38]\\n\\n9\\n\\nTable 5. Selected nutrients (per 100g) in raw liver, kidney, heart, brain and tripe 1',\n",
       " '1. Folate values from US data [39]; all other values from NUTTAB 2006 [38]\\n\\n10\\n\\nTable 6. Percentage of male adult recommended dietary intake (RDI) or adequate intake (AI)\\n\\nprovided by 100g of lean red meat and some vegetarian protein sources',\n",
       " \"1. Average values from 2002 analyses of Australian red meat [4]\\n\\n2. Values from NUTTAB 2006 [38]\\n\\n11\\n\\nReferences\\n\\n1. Food Standards Australia New Zealand. Food Standards Code - Volume 2. Canberra: Information Australia, 2002.\\n\\n2. Beilken S, Eustace E, Eustace R. Composition of new meats - analyses and nutrient composition of innovative meat industries. RIRDC Publication No 07/036. Canberra: RIRDC, 2007. Cited 25 April 2007. Available at: http://www.rirdc.gov.au/reports/NAP/07-036.pdf.\\n\\n3. Williams P, Droulez V, Levy G et al. Nutrient composition of Australian red meat 2002. 1. Gross composition data. Food Aust 2006; 58: 173-181.\\n\\n4. Williams P, Droulez V, Levy G et al. Composition of Australian red meat 2002. 3. Nutrient profile. Food Aust 2007; 59(in press).\\n\\n5. Sadler M, Lewis J, Buick D. Composition of trim lamb. Food Aust 1993; 45(Suppl): S2-12.\\n\\n6. Sinclair A, Mann N, O'Connell S. The nutrient composition of Australian beef and lamb. Melbourne: RMIT, 1999.\\n\\n7. National Health and Medical Research Council. Nutrient Reference Values for Australia and New Zealand including Recommended Dietary Intakes. Canberra: Commonwealth Department of Health and Ageing, 2006.\\n\\n8. Bhutta Z. Protein: digestibility and availability. In: Encyclopedia of Human Nutrition. M Sadler, J Strain and B. Caballero (Editors). San Diego: Academic Press, 1999. p. 1646-1656.\\n\\n9. Schaafsma G. The Protein Digestibility-Corrected Amino Acid Score. J Nutr 2000; 130: 1865S-1867S.\\n\\n10. Cobiac L, Droulez V, Leppard P et al. Use of external fat width to describe beef and lamb cuts in food composition tables. J Food Comp Anal 2003; 16: 133-145.\\n\\n11. Greenfield H, Kuo Y, Hutchison G et al. Composition of Australian foods. 33. Lamb. Food Aust 1987; 39: 202-207.\\n\\n12. Greenfield, H, Kuo Y, Hutchison G et al., Composition of Australian foods. 34. Beef and veal. Food Aust 1987; 39: 208-215;227.\\n\\n13. Higgs J. The changing nature of red meat: 20 years of improving nutritional quality. Trends Food Sci Technol 2000; 11: 85-95.\\n\\n14. Sinclair A, O'Dea K. The lipid levels and fatty acid compositions of the lean portions of Australian beef and lamb. Food Technol Aust 1987; 39: 228-231.\\n\\n15. Marmer W, Maxwell R, Williams J. Effects of dietary regimen and tissue site on bovine fatty acid profiles. J Anim Sci 1984; 59: 109-121.\\n\\n16. Howe P, Meyer B, Record S et al. Dietary intakes of long-chain omega-3 polyunsaturated fatty acids: contribution of meat sources. Nutrition, 2006; 22: 47-53.\\n\\n17. Droulez V, Williams P, Levy G et al. Nutrient composition of Australian red meat 2002. 2. Fatty acid profile. Food Aust 2006; 58: 335-341.\\n\\n18. Zeisel S, Niculescu M. Choline and Phosphatidylcholine. In Modern Nutrition in Health and Disease. M Shils et al. (Editors). Philadelphia: Lippincott Williams & Wilkins, 2006. p. 525-536.\\n\\n19. Purchas R, Zou M, Pearce P et al. Concentrations of vitamin D3 and 2- hydroxyvitamin D3 in raw and cooked New Zealand beef and lamb. J Food Comp Anal 2007; 20: 90-98.\\n\\n20. Chan W, Brown J, Lee S et al. Meat, Poultry and Game. Fifth Supplement to McCance & Widdowson's The Composition of Foods. London: The Royal\\n\\n12\\n\\nSociety of Chemistry and the Ministry of Agriculture Fisheries and Food, 1995.\\n\\n21. Arihara K. Strategies for designing novel functional meat products. Meat Sci 2006; 74: 219-229.\\n\\n22. Purchas R, Rutherfurd S, Pearce P et al. Concentrations in beef and lamb of taurine, carnosine, coenzyme Q10, and creatine. Meat Sci 2004; 66: 629-637.\\n\\n23. Redmond H, Stapleton P, Neary P et al. Immunonutrition: the role of taurine. Nutr Cancer 1998; 14: 599-608.\\n\\n24. Bouckenooghe T, Remacle C, Reusens B. Is taurine a functional nutrient? Curr Opin Clin Nutr Metab Care 2006; 9: 728-733.\\n\\n25. Tanpaichitr V, Leelahagul P. Carnitine metabolism and human carnitine metabolism. Nutrition 1993; 9: 246-254.\\n\\n26. Mitchell M. Carnitine metabolism in human subjects 1. Normal metabolism. Am J Clin Nutr 1978; 31: 293-306.\\n\\n27. Shimada L, Sakuma Y, Wakamatsu J et al. Species and muscle differences in L-carnitine in skeletal muscles based on a new simple assay. Meat Sci 2004; 68: 357-362.\\n\\n28. Azain M. Conjugated linoleic acid and its effects on animal products and health in single-stomached animals. Proc Nutr Soc 2003; 62: 319-328.\\n\\n29. Dhiman T, Nam S, Ure A. Factors affecting conjugated linoleic acid content in milk and meat. Crit Rev Food Sci Nutr 2005; 45: 463-482.\\n\\n30. Decker E, Livisay S, Zhou S. Mechanisms of endogenous skeletal muscle antioxidants: chemical and physical aspects. In Antioxidants in muscle foods, E. Decker, C. Faustman and C. Lopez-Bote (Editors). New York: Wiley- Interscience, 2000. p. 25-60.\\n\\n31. Purchas R, Busboom J. The effect of production system and age on levels of iron, taurine, carnosine, coenzyme Q10, and creatine in beef muscles and lover. Meat Sci 2005; 70: 589-596.\\n\\n32. Decker E, Ivanov V, Zhu B et al. Inhibition of low density lipoprotein oxidation by carnosine and histidine. J Agric Food Chem 2001; 49: 511-516.\\n\\n33. Overvad K, Diamant B, Holm L et al. Coenzyme Q10 in health and disease. Eur J Clin Nutr 1999; 53: 764-770.\\n\\n34. Jones D, Coates R, Flagg E et al. Glutathione in foods listed in the National Cancer Institute's health habits and history food frequency questionnaire. Nutr Cancer, 1992; 17: 57-75.\",\n",
       " '35. Kreider R, Ferreira M, Wilson M et al. Effects of creatine supplementation on body composition, strength, and sprint performance. Med Sci Sports Ex 1998; 30: 73-82.\\n\\n36. Harris R, Nevill M, Harris D et al. Absorption of creatine supplied as a drink, in meat or in solid form. J Sports Sci 2002; 20: 147-151.\\n\\n37. Smith A, Kellett E, Schmerlaib Y. The Australian Guide to Healthy Eating. Background information for nutrition educators. Canberra: Commonwealth Department of Health, 1998.\\n\\n38. Food Standards Australia New Zealand. NUTTAB 2006. Online database of the nutritional composition of Australian foods. Canberra: FSANZ, 2007. Cited 25 April 2007. Available at:\\n\\nhttp://www.foodstandards.gov.au/monitoringandsurveillance/nuttab2006/onlin eversionintroduction/index.cfm\\n\\n13\\n\\n39. US Department of Agriculture, USDA National Nutrient Database for Standard Reference. Release 19. Washington DC: USDA, 2007. Cited 25 April 2007. Available at: http://www.nal.usda.gov/fnic/foodcomp/search/\\n\\n14']"
      ]
     },
     "execution_count": 62,
     "metadata": {},
     "output_type": "execute_result"
    }
   ],
   "source": [
    "text"
   ]
  },
  {
   "cell_type": "code",
   "execution_count": 63,
   "metadata": {},
   "outputs": [
    {
     "data": {
      "text/html": [
       "<table><tr><td/><td>Beef</td><td>Veal</td><td>Lamb</td><td>Mutton</td><td>Adult Australian RDI</td></tr><tr><td>Moisture (g)</td><td>73.1</td><td>74.8</td><td>72.9</td><td>73.2</td><td/></tr><tr><td>Protein (g)</td><td>23.2</td><td>24.8</td><td>21.9</td><td>21.5</td><td>46-64</td></tr><tr><td>Fat (g)</td><td>2.8</td><td>1.5</td><td>4.7</td><td>4.0</td><td>-</td></tr><tr><td>Energy (kJ)</td><td>498</td><td>477</td><td>546</td><td>514</td><td>6.5-15.8MJ</td></tr><tr><td>Cholesterol (mg)</td><td>50</td><td>51</td><td>66</td><td>66</td><td>-</td></tr><tr><td>Thiamin (mg)</td><td>0.04</td><td>0.06</td><td>0.12</td><td>0.16</td><td>1.1-1.2</td></tr><tr><td>Riboflavin (mg)</td><td>0.18</td><td>0.20</td><td>0.23</td><td>0.25</td><td>1.1-1.6</td></tr><tr><td>Niacin (mg)</td><td>5.0</td><td>16.0</td><td>5.2</td><td>8.0</td><td>14-16</td></tr><tr><td>Vitamin B6 (mg)</td><td>0.52</td><td>0.8</td><td>0.10</td><td>0.8</td><td>1.3-1.7</td></tr><tr><td>Vitamin B12 (ug)</td><td>2.5</td><td>1.6</td><td>0.96</td><td>2.8</td><td>2.4</td></tr><tr><td>Pantothenic acid (mg)</td><td>0.35</td><td>1.50</td><td>0.74</td><td>1.33</td><td>4-6</td></tr><tr><td>Vitamin A (ug)</td><td>&lt;5</td><td>&lt;5</td><td>8.6</td><td>7.8</td><td>700-900ug RE*</td></tr><tr><td>Beta-carotene (ug)</td><td>10</td><td>&lt;5</td><td>&lt;5</td><td>&lt;5</td><td>700-900pg RE*</td></tr><tr><td>Alpha-tocopherol (mg)</td><td>0.63</td><td>0.50</td><td>0.44</td><td>0.20</td><td>7-10</td></tr><tr><td>Sodium (mg)</td><td>51</td><td>51</td><td>69</td><td>71</td><td>460-920</td></tr><tr><td>Potassium (mg)</td><td>363</td><td>362</td><td>344</td><td>365</td><td>2800-3800</td></tr><tr><td>Calcium (mg)</td><td>4.5</td><td>6.5</td><td>7.2</td><td>6.6</td><td>1000-1300</td></tr><tr><td>Iron (mg)</td><td>1.8</td><td>1.1</td><td>2.0</td><td>3.3</td><td>8-18</td></tr><tr><td>Zinc (mg)</td><td>4.6</td><td>4.2</td><td>4.5</td><td>3.9</td><td>8-14</td></tr><tr><td>Magnesium (mg)</td><td>25</td><td>26</td><td>28</td><td>28</td><td>310-420</td></tr><tr><td>Phosphorus (mg)</td><td>215</td><td>260</td><td>194</td><td>290</td><td>1000</td></tr><tr><td>Copper (mg)</td><td>0.12</td><td>0.08</td><td>0.12</td><td>0.22</td><td>1.2-1.7</td></tr></table>"
      ],
      "text/plain": [
       "<IPython.core.display.HTML object>"
      ]
     },
     "metadata": {},
     "output_type": "display_data"
    }
   ],
   "source": [
    "display(HTML(tables[0]))"
   ]
  },
  {
   "cell_type": "markdown",
   "metadata": {},
   "source": [
    "### Summarize the Data"
   ]
  },
  {
   "cell_type": "code",
   "execution_count": 65,
   "metadata": {},
   "outputs": [],
   "source": [
    "# Summarize extracted text and tables using LLM\n",
    "def summarize_text_and_tables(text, tables):\n",
    "    prompt_text = \"\"\"You are an assistant tasked with summarizing text and tables. \\\n",
    "\n",
    "                    You are to give a concise summary of the table or text and do nothing else.\n",
    "                    Table or text chunk: {element} \"\"\"\n",
    "    prompt = ChatPromptTemplate.from_template(prompt_text)\n",
    "    model = ChatOpenAI(temperature=0.6, model=\"gpt-4o-mini\")\n",
    "    summarize_chain = {\"element\": RunnablePassthrough()}| prompt | model | StrOutputParser()\n",
    "    return {\n",
    "        \"text\": summarize_chain.batch(text, {\"max_concurrency\": 5}),\n",
    "        \"table\": summarize_chain.batch(tables, {\"max_concurrency\": 5})\n",
    "    }"
   ]
  },
  {
   "cell_type": "code",
   "execution_count": 66,
   "metadata": {},
   "outputs": [],
   "source": [
    "data_summary = summarize_text_and_tables(text, tables)"
   ]
  },
  {
   "cell_type": "code",
   "execution_count": 67,
   "metadata": {},
   "outputs": [
    {
     "data": {
      "text/plain": [
       "{'text': [\"The document discusses the nutritional composition of red meat, highlighting that lean red meats are excellent sources of high-quality protein, vitamins (B12, B6, niacin), minerals (iron, zinc, phosphorus), and long-chain omega-3 fatty acids. It also notes that red meats are generally low in fat and sodium and contain various bioactive substances such as antioxidants. The article is authored by Assoc Prof Peter Williams and was published in 2007 in the journal Nutrition & Dietetics. The full text is accessible through the University of Wollongong's Research Online repository.\",\n",
       "  'Lean red meats are rich in high-quality protein, vitamins (B12, niacin, B6), minerals (iron, zinc, phosphorus), and omega-3 fats, while being low in fat and sodium. They also contain antioxidants and bioactive compounds. The FSANZ defines meat as the carcass of various animals, excluding eggs and foetuses, and includes offal but not bone. In Australia, \"red meat\" refers specifically to cattle, sheep, and goats, while processed meat must contain at least 30% meat and undergo preservation methods other than freezing.',\n",
       "  'Red meat is a high-quality protein source rich in essential micronutrients, including vitamins and minerals necessary for health. Recent trends indicate a shift towards leaner cuts, which generally have low fat, moderate cholesterol, and high protein content. The nutrient composition varies by type of meat, but lean red meat typically offers significant amounts of protein, niacin, vitamins B6 and B12, phosphorus, zinc, and iron, with mutton being particularly nutrient-dense. Raw red muscle meat contains about 20-25g of protein per 100g, increasing to 28-36g when cooked due to moisture loss. Meat protein is highly digestible and provides all essential amino acids, with a Protein Digestibility Corrected Amino Acid Score (PDCAAS) of approximately 0.9, higher than most plant-based proteins.',\n",
       "  'The table summarizes the fat content and nutritional aspects of red meat cuts available in Australia. There is significant variability in separable fat among different cuts, with lamb loin chops containing 37% fat and veal steak only 1%. Trends show a decline in fat content in untrimmed raw retail samples from 1983-86 to 2002, attributed to breeding, marketing, and butchering practices for leaner meat. Most trimmed red meats are low in fat (<7%). Australian red meat is primarily pasture-fed, contributing to its leanness and higher omega-3 fatty acid content compared to grain-fed options. \\n\\nSaturated fats make up about 40% of total fatty acids in red meat, with palmitic and stearic acids being predominant. Red meat is a significant source of long-chain omega-3 fatty acids, meeting dietary recommendations, especially mutton. Trans fatty acids are present in small amounts, primarily in lamb. \\n\\nRed meat is a good source of choline and various B vitamins, particularly vitamin B12, while also providing low levels of vitamin D. Older animals tend to have higher nutrient concentrations. Overall, red meat plays a notable role in the Australian diet, contributing essential nutrients while generally being low in fat.',\n",
       "  'Beef and lamb are rich sources of minerals, particularly iron and zinc, providing at least a quarter of daily adult requirements per 100g. The iron in meat is predominantly haem-iron, which is well absorbed, and meat protein enhances this absorption. Zinc absorption is also higher from animal protein than plant sources, with vegetarians needing up to 50% more zinc. Red meats are good sources of selenium, contributing over 20% of the recommended daily intake (RDI) per 100g, though selenium levels can vary based on animal diet and sampling time. Lean meats are low in sodium and have a high potassium/sodium ratio. Copper content varies among meats, with higher values than typically found in British meat.\\n\\nAdditionally, meat contains bioactive compounds such as taurine, which may be conditionally essential during certain life stages, and L-carnitine, important for energy production. Conjugated linoleic acid (CLA), present in ruminant fat, has antioxidant properties and may aid in obesity control. Endogenous antioxidants like carnosine and anserine, found in high concentrations in meat, contribute to its antioxidant capacity, with carnosine levels around 365mg/100g in beef. Other antioxidants, including glutathione, also play significant roles in immune response and enhancing iron absorption.',\n",
       "  'Creatine, found primarily in red meat, plays a crucial role in muscle energy metabolism and can enhance muscle performance when supplemented. Typical dietary intake from meat is insufficient for the performance levels achieved with supplements. \\n\\nOrgan meats, excluding tripe, are rich in vitamin B12 and various nutrients: liver is high in protein, iron, zinc, and vitamins A and folate; kidney contains protein, thiamin, riboflavin, and iron; heart provides iron and zinc; while brains and tripe offer fewer vitamins and minerals. All organ meats are high in cholesterol and low in sodium, with liver consumption limited during pregnancy due to high retinol content.\\n\\nA comparison of red meat and vegetarian protein sources shows that lean beef and lamb are superior protein sources, lower in sodium, and richer in zinc, niacin, omega-3 fats, vitamin B6, selenium, and vitamin B12 compared to vegetarian options. Eggs, cheese, and nuts have higher total fat content than lean meats.',\n",
       "  'Table 1 presents the nutrient composition of lean red meat per 100 grams, highlighting key nutritional values such as protein, fat, vitamins, and minerals.',\n",
       "  'Table 2 presents the mean weight of lean and separable fat from untrimmed raw boneless Australian red meat.',\n",
       "  'Table 3 presents the fat and cholesterol content in trimmed raw and cooked Australian red meat.',\n",
       "  'The table presents the fatty acid profile of cooked casserole, showing a total fat content of 7.7 g, with 63 g of protein and 8 g of carbohydrates per 100 g edible portion. Additionally, it references the fatty acid profiles of various raw lean meats, including beef, veal, lamb, and mutton.',\n",
       "  'The text references various nutrient values per 100g for different types of meat and fish, including Australian red meat, raw lean chicken breast, raw lean pork fillet, raw flathead, and canned red salmon, all sourced from NUTTAB 2006. Additionally, it mentions selected nutrients found in raw liver, kidney, heart, brain, and tripe.',\n",
       "  'Table 6 presents the percentage of the recommended dietary intake (RDI) or adequate intake (AI) for male adults that can be obtained from consuming 100 grams of lean red meat and various vegetarian protein sources. The folate values are derived from US data, while all other nutritional values are sourced from NUTTAB 2006.',\n",
       "  'The text provides a list of references related to the nutrient composition and analyses of Australian red meat, including studies from 2002 and the NUTTAB 2006 database. It includes various sources discussing the composition, nutrient profiles, fatty acid profiles, and the effects of production systems on nutrient content in beef and lamb. Notable references include works by Williams et al. on nutrient composition, studies on fatty acids, and discussions on functional nutrients like taurine and carnitine.',\n",
       "  'The text lists several references related to nutrition and supplementation. Key studies include the effects of creatine supplementation on body composition and performance, the absorption of creatine in different forms, and resources for nutrition education such as the Australian Guide to Healthy Eating and nutrient databases from Food Standards Australia and the USDA. The citations provide insights into the nutritional composition of foods and guidelines for healthy eating.'],\n",
       " 'table': ['The table presents nutritional information for beef, veal, lamb, and mutton, comparing their contents of moisture, protein, fat, energy, cholesterol, vitamins, and minerals. Key points include:\\n\\n- **Moisture Content**: Ranges from 72.9g (lamb) to 74.8g (veal).\\n- **Protein**: Highest in veal (24.8g), lowest in mutton (21.5g).\\n- **Fat**: Lamb has the highest fat content (4.7g), while veal has the lowest (1.5g).\\n- **Energy**: Lamb provides the most energy (546 kJ), while veal provides the least (477 kJ).\\n- **Cholesterol**: Similar across meats, ranging from 50mg (beef) to 66mg (lamb and mutton).\\n- **Vitamins**: Niacin is notably higher in veal (16.0mg) compared to the others, while vitamin B12 is highest in mutton (2.8µg).\\n- **Minerals**: Iron content is highest in mutton (3.3mg), while potassium is similar across all meats, around 362-365mg.\\n\\nThe table also includes recommended daily intakes (RDI) for adults for various nutrients.',\n",
       "  'The table presents the lean and fat composition of various meat cuts from beef, veal, lamb, and mutton. Key details include:\\n\\n- **Beef**: \\n  - Topside roast: 91% lean, 6% external fat, 3% internal fat.\\n  - Silverside roast: 89% lean, 4% internal fat.\\n  - Blade steak: 88% lean, 6% external fat, 6% internal fat.\\n  - Porterhouse steak: 77% lean, 18% external fat, 5% internal fat.\\n  - Stir fry: 98% lean, 2% external fat, 0% internal fat.\\n  - Scotch fillet: 81% lean, 11% internal fat.\\n\\n- **Veal**: \\n  - Leg steak: 99% lean, 1% internal fat.\\n  - Diced: 98% lean.\\n  - Cutlet: 93% lean, 1% external fat.\\n\\n- **Lamb**: \\n  - Leg roast: 83% lean, 11% external fat, 6% internal fat.\\n  - Chump chop: 75% lean, 15% external fat, 10% internal fat.\\n  - Diced: 98% lean, 2% external fat.\\n  - Easy carve shoulder: 77% lean, 12% external fat, 11% internal fat.\\n  - Loin chop: 63% lean, 29% external fat, 8% internal fat.\\n\\n- **Mutton**: \\n  - Leg: 85% lean, 9% external fat. \\n\\nSome entries for external and internal fat percentages are missing.',\n",
       "  'The table lists various meat cuts along with their total fat content (in grams) and cholesterol levels (in milligrams) for both raw and cooked states. Key entries include:\\n\\n- Beef cuts like diced, round steak, and sirloin show varying fat and cholesterol levels, with cooked versions generally having higher fat.\\n- Regular mince (raw) has the highest fat content at 10.8g and cholesterol at 76mg.\\n- Lamb cuts exhibit similar trends, with lamb mince having 6.9g fat (raw) and 8.5g (cooked).\\n- The easy carve shoulder (raw) shows significant fat at 43g, while cooked versions of various cuts have lower fat but varying cholesterol levels. \\n\\nOverall, the table emphasizes the differences in nutritional content between raw and cooked meat cuts.',\n",
       "  'The table presents the fatty acid composition of various food items, including chicken, pork, fish, and oily fish. It lists specific fatty acids (like C14:0, C16:0, C18:0, etc.) along with their respective amounts for each food type. \\n\\nKey results include:\\n- Total saturated fats range from 0.300 to 3.320 across the foods.\\n- Total monounsaturated fats range from 0.200 to 5.390.\\n- Total polyunsaturated fats range from 0.200 to 2.655.\\n- The ratio of omega-3 to omega-6 fatty acids varies significantly, with a maximum of 10.42 in oily fish. \\n\\nOverall, the data highlights the differences in fatty acid profiles among the foods analyzed.',\n",
       "  'The table presents nutritional values for various organ meats (Liver, Kidney, Heart, Brain, and Tripe Beef) comparing their protein, fat, cholesterol, vitamins, and minerals content, categorized by beef and lamb. \\n\\n- **Protein**: Liver (Beef) has the highest at 20.0g, while Tripe Beef has the lowest at 12.3g.\\n- **Fat**: Liver (Beef) contains 8.6g, while Heart (Beef) has the least at 1.6g.\\n- **Cholesterol**: Kidney (Lamb) has the highest cholesterol content at 433mg, while Tripe Beef has the lowest at 82mg.\\n- **Vitamins**: Liver (Lamb) is particularly high in Vitamin B12 (90µg) and Retinol equivalents (31,400µg).\\n- **Minerals**: Kidney (Lamb) has the highest iron content (9.5mg), while Tripe Beef has the lowest (0.4mg).\\n\\nOverall, organ meats show significant variation in nutritional profiles, with liver generally being nutrient-dense, particularly in vitamins and minerals.',\n",
       "  'The table presents the Recommended Dietary Intake (RDI) or Adequate Intake (AI) for protein and various nutrients for males aged 31-50 years, alongside the nutrient content of different food items: beef, lamb, eggs, cheddar cheese, baked beans (salt reduced), and walnuts. Key nutrients and their amounts per serving include:\\n\\n- **Protein**: Beef (36g), Lamb (34g), Eggs (21g), Cheddar cheese (40g), Baked beans (7g), Walnuts (23g).\\n- **Long-chain omega-3 fat**: Highest in eggs (111mg), none in baked beans and walnuts.\\n- **Thiamin**: Walnuts provide the most (28mg).\\n- **Riboflavin**: Cheddar cheese (39mg) is the highest source.\\n- **Niacin**: Lamb (70mg) is the richest source.\\n- **Vitamin B6**: Walnuts (33mg) lead in content.\\n- **Vitamin B12**: Beef (79ug) offers the most.\\n- **Vitamin A**: Eggs provide 25ug.\\n- **Vitamin E**: Cheddar cheese (40mg) is highest.\\n- **Minerals**: \\n  - **Phosphorus**: Cheddar cheese (47mg) is highest.\\n  - **Zinc**: Lamb (31mg) leads.\\n  - **Iron**: Eggs (26mg) provide the most.\\n  - **Magnesium**: Walnuts (36mg) are the richest source.\\n  - **Selenium**: Beef (29ug) is the highest.\\n  - **Sodium**: Cheddar cheese (72mg) has the most.\\n  - **Potassium**: Walnuts (12mg) provide the most.\\n\\nOverall, the nutrient content varies significantly across these foods, highlighting their contributions to the diet of males aged 31-50 years.']}"
      ]
     },
     "execution_count": 67,
     "metadata": {},
     "output_type": "execute_result"
    }
   ],
   "source": [
    "data_summary"
   ]
  },
  {
   "cell_type": "code",
   "execution_count": 68,
   "metadata": {},
   "outputs": [],
   "source": [
    "text_summary = data_summary['text']"
   ]
  },
  {
   "cell_type": "code",
   "execution_count": 69,
   "metadata": {},
   "outputs": [],
   "source": [
    "tables_summary = data_summary['table']"
   ]
  },
  {
   "cell_type": "code",
   "execution_count": 72,
   "metadata": {},
   "outputs": [
    {
     "data": {
      "text/plain": [
       "[\"The document discusses the nutritional composition of red meat, highlighting that lean red meats are excellent sources of high-quality protein, vitamins (B12, B6, niacin), minerals (iron, zinc, phosphorus), and long-chain omega-3 fatty acids. It also notes that red meats are generally low in fat and sodium and contain various bioactive substances such as antioxidants. The article is authored by Assoc Prof Peter Williams and was published in 2007 in the journal Nutrition & Dietetics. The full text is accessible through the University of Wollongong's Research Online repository.\",\n",
       " 'Lean red meats are rich in high-quality protein, vitamins (B12, niacin, B6), minerals (iron, zinc, phosphorus), and omega-3 fats, while being low in fat and sodium. They also contain antioxidants and bioactive compounds. The FSANZ defines meat as the carcass of various animals, excluding eggs and foetuses, and includes offal but not bone. In Australia, \"red meat\" refers specifically to cattle, sheep, and goats, while processed meat must contain at least 30% meat and undergo preservation methods other than freezing.',\n",
       " 'Red meat is a high-quality protein source rich in essential micronutrients, including vitamins and minerals necessary for health. Recent trends indicate a shift towards leaner cuts, which generally have low fat, moderate cholesterol, and high protein content. The nutrient composition varies by type of meat, but lean red meat typically offers significant amounts of protein, niacin, vitamins B6 and B12, phosphorus, zinc, and iron, with mutton being particularly nutrient-dense. Raw red muscle meat contains about 20-25g of protein per 100g, increasing to 28-36g when cooked due to moisture loss. Meat protein is highly digestible and provides all essential amino acids, with a Protein Digestibility Corrected Amino Acid Score (PDCAAS) of approximately 0.9, higher than most plant-based proteins.',\n",
       " 'The table summarizes the fat content and nutritional aspects of red meat cuts available in Australia. There is significant variability in separable fat among different cuts, with lamb loin chops containing 37% fat and veal steak only 1%. Trends show a decline in fat content in untrimmed raw retail samples from 1983-86 to 2002, attributed to breeding, marketing, and butchering practices for leaner meat. Most trimmed red meats are low in fat (<7%). Australian red meat is primarily pasture-fed, contributing to its leanness and higher omega-3 fatty acid content compared to grain-fed options. \\n\\nSaturated fats make up about 40% of total fatty acids in red meat, with palmitic and stearic acids being predominant. Red meat is a significant source of long-chain omega-3 fatty acids, meeting dietary recommendations, especially mutton. Trans fatty acids are present in small amounts, primarily in lamb. \\n\\nRed meat is a good source of choline and various B vitamins, particularly vitamin B12, while also providing low levels of vitamin D. Older animals tend to have higher nutrient concentrations. Overall, red meat plays a notable role in the Australian diet, contributing essential nutrients while generally being low in fat.',\n",
       " 'Beef and lamb are rich sources of minerals, particularly iron and zinc, providing at least a quarter of daily adult requirements per 100g. The iron in meat is predominantly haem-iron, which is well absorbed, and meat protein enhances this absorption. Zinc absorption is also higher from animal protein than plant sources, with vegetarians needing up to 50% more zinc. Red meats are good sources of selenium, contributing over 20% of the recommended daily intake (RDI) per 100g, though selenium levels can vary based on animal diet and sampling time. Lean meats are low in sodium and have a high potassium/sodium ratio. Copper content varies among meats, with higher values than typically found in British meat.\\n\\nAdditionally, meat contains bioactive compounds such as taurine, which may be conditionally essential during certain life stages, and L-carnitine, important for energy production. Conjugated linoleic acid (CLA), present in ruminant fat, has antioxidant properties and may aid in obesity control. Endogenous antioxidants like carnosine and anserine, found in high concentrations in meat, contribute to its antioxidant capacity, with carnosine levels around 365mg/100g in beef. Other antioxidants, including glutathione, also play significant roles in immune response and enhancing iron absorption.',\n",
       " 'Creatine, found primarily in red meat, plays a crucial role in muscle energy metabolism and can enhance muscle performance when supplemented. Typical dietary intake from meat is insufficient for the performance levels achieved with supplements. \\n\\nOrgan meats, excluding tripe, are rich in vitamin B12 and various nutrients: liver is high in protein, iron, zinc, and vitamins A and folate; kidney contains protein, thiamin, riboflavin, and iron; heart provides iron and zinc; while brains and tripe offer fewer vitamins and minerals. All organ meats are high in cholesterol and low in sodium, with liver consumption limited during pregnancy due to high retinol content.\\n\\nA comparison of red meat and vegetarian protein sources shows that lean beef and lamb are superior protein sources, lower in sodium, and richer in zinc, niacin, omega-3 fats, vitamin B6, selenium, and vitamin B12 compared to vegetarian options. Eggs, cheese, and nuts have higher total fat content than lean meats.',\n",
       " 'Table 1 presents the nutrient composition of lean red meat per 100 grams, highlighting key nutritional values such as protein, fat, vitamins, and minerals.',\n",
       " 'Table 2 presents the mean weight of lean and separable fat from untrimmed raw boneless Australian red meat.',\n",
       " 'Table 3 presents the fat and cholesterol content in trimmed raw and cooked Australian red meat.',\n",
       " 'The table presents the fatty acid profile of cooked casserole, showing a total fat content of 7.7 g, with 63 g of protein and 8 g of carbohydrates per 100 g edible portion. Additionally, it references the fatty acid profiles of various raw lean meats, including beef, veal, lamb, and mutton.',\n",
       " 'The text references various nutrient values per 100g for different types of meat and fish, including Australian red meat, raw lean chicken breast, raw lean pork fillet, raw flathead, and canned red salmon, all sourced from NUTTAB 2006. Additionally, it mentions selected nutrients found in raw liver, kidney, heart, brain, and tripe.',\n",
       " 'Table 6 presents the percentage of the recommended dietary intake (RDI) or adequate intake (AI) for male adults that can be obtained from consuming 100 grams of lean red meat and various vegetarian protein sources. The folate values are derived from US data, while all other nutritional values are sourced from NUTTAB 2006.',\n",
       " 'The text provides a list of references related to the nutrient composition and analyses of Australian red meat, including studies from 2002 and the NUTTAB 2006 database. It includes various sources discussing the composition, nutrient profiles, fatty acid profiles, and the effects of production systems on nutrient content in beef and lamb. Notable references include works by Williams et al. on nutrient composition, studies on fatty acids, and discussions on functional nutrients like taurine and carnitine.',\n",
       " 'The text lists several references related to nutrition and supplementation. Key studies include the effects of creatine supplementation on body composition and performance, the absorption of creatine in different forms, and resources for nutrition education such as the Australian Guide to Healthy Eating and nutrient databases from Food Standards Australia and the USDA. The citations provide insights into the nutritional composition of foods and guidelines for healthy eating.']"
      ]
     },
     "execution_count": 72,
     "metadata": {},
     "output_type": "execute_result"
    }
   ],
   "source": [
    "text_summary"
   ]
  },
  {
   "cell_type": "code",
   "execution_count": 73,
   "metadata": {},
   "outputs": [
    {
     "data": {
      "text/plain": [
       "['The table presents nutritional information for beef, veal, lamb, and mutton, comparing their contents of moisture, protein, fat, energy, cholesterol, vitamins, and minerals. Key points include:\\n\\n- **Moisture Content**: Ranges from 72.9g (lamb) to 74.8g (veal).\\n- **Protein**: Highest in veal (24.8g), lowest in mutton (21.5g).\\n- **Fat**: Lamb has the highest fat content (4.7g), while veal has the lowest (1.5g).\\n- **Energy**: Lamb provides the most energy (546 kJ), while veal provides the least (477 kJ).\\n- **Cholesterol**: Similar across meats, ranging from 50mg (beef) to 66mg (lamb and mutton).\\n- **Vitamins**: Niacin is notably higher in veal (16.0mg) compared to the others, while vitamin B12 is highest in mutton (2.8µg).\\n- **Minerals**: Iron content is highest in mutton (3.3mg), while potassium is similar across all meats, around 362-365mg.\\n\\nThe table also includes recommended daily intakes (RDI) for adults for various nutrients.',\n",
       " 'The table presents the lean and fat composition of various meat cuts from beef, veal, lamb, and mutton. Key details include:\\n\\n- **Beef**: \\n  - Topside roast: 91% lean, 6% external fat, 3% internal fat.\\n  - Silverside roast: 89% lean, 4% internal fat.\\n  - Blade steak: 88% lean, 6% external fat, 6% internal fat.\\n  - Porterhouse steak: 77% lean, 18% external fat, 5% internal fat.\\n  - Stir fry: 98% lean, 2% external fat, 0% internal fat.\\n  - Scotch fillet: 81% lean, 11% internal fat.\\n\\n- **Veal**: \\n  - Leg steak: 99% lean, 1% internal fat.\\n  - Diced: 98% lean.\\n  - Cutlet: 93% lean, 1% external fat.\\n\\n- **Lamb**: \\n  - Leg roast: 83% lean, 11% external fat, 6% internal fat.\\n  - Chump chop: 75% lean, 15% external fat, 10% internal fat.\\n  - Diced: 98% lean, 2% external fat.\\n  - Easy carve shoulder: 77% lean, 12% external fat, 11% internal fat.\\n  - Loin chop: 63% lean, 29% external fat, 8% internal fat.\\n\\n- **Mutton**: \\n  - Leg: 85% lean, 9% external fat. \\n\\nSome entries for external and internal fat percentages are missing.',\n",
       " 'The table lists various meat cuts along with their total fat content (in grams) and cholesterol levels (in milligrams) for both raw and cooked states. Key entries include:\\n\\n- Beef cuts like diced, round steak, and sirloin show varying fat and cholesterol levels, with cooked versions generally having higher fat.\\n- Regular mince (raw) has the highest fat content at 10.8g and cholesterol at 76mg.\\n- Lamb cuts exhibit similar trends, with lamb mince having 6.9g fat (raw) and 8.5g (cooked).\\n- The easy carve shoulder (raw) shows significant fat at 43g, while cooked versions of various cuts have lower fat but varying cholesterol levels. \\n\\nOverall, the table emphasizes the differences in nutritional content between raw and cooked meat cuts.',\n",
       " 'The table presents the fatty acid composition of various food items, including chicken, pork, fish, and oily fish. It lists specific fatty acids (like C14:0, C16:0, C18:0, etc.) along with their respective amounts for each food type. \\n\\nKey results include:\\n- Total saturated fats range from 0.300 to 3.320 across the foods.\\n- Total monounsaturated fats range from 0.200 to 5.390.\\n- Total polyunsaturated fats range from 0.200 to 2.655.\\n- The ratio of omega-3 to omega-6 fatty acids varies significantly, with a maximum of 10.42 in oily fish. \\n\\nOverall, the data highlights the differences in fatty acid profiles among the foods analyzed.',\n",
       " 'The table presents nutritional values for various organ meats (Liver, Kidney, Heart, Brain, and Tripe Beef) comparing their protein, fat, cholesterol, vitamins, and minerals content, categorized by beef and lamb. \\n\\n- **Protein**: Liver (Beef) has the highest at 20.0g, while Tripe Beef has the lowest at 12.3g.\\n- **Fat**: Liver (Beef) contains 8.6g, while Heart (Beef) has the least at 1.6g.\\n- **Cholesterol**: Kidney (Lamb) has the highest cholesterol content at 433mg, while Tripe Beef has the lowest at 82mg.\\n- **Vitamins**: Liver (Lamb) is particularly high in Vitamin B12 (90µg) and Retinol equivalents (31,400µg).\\n- **Minerals**: Kidney (Lamb) has the highest iron content (9.5mg), while Tripe Beef has the lowest (0.4mg).\\n\\nOverall, organ meats show significant variation in nutritional profiles, with liver generally being nutrient-dense, particularly in vitamins and minerals.',\n",
       " 'The table presents the Recommended Dietary Intake (RDI) or Adequate Intake (AI) for protein and various nutrients for males aged 31-50 years, alongside the nutrient content of different food items: beef, lamb, eggs, cheddar cheese, baked beans (salt reduced), and walnuts. Key nutrients and their amounts per serving include:\\n\\n- **Protein**: Beef (36g), Lamb (34g), Eggs (21g), Cheddar cheese (40g), Baked beans (7g), Walnuts (23g).\\n- **Long-chain omega-3 fat**: Highest in eggs (111mg), none in baked beans and walnuts.\\n- **Thiamin**: Walnuts provide the most (28mg).\\n- **Riboflavin**: Cheddar cheese (39mg) is the highest source.\\n- **Niacin**: Lamb (70mg) is the richest source.\\n- **Vitamin B6**: Walnuts (33mg) lead in content.\\n- **Vitamin B12**: Beef (79ug) offers the most.\\n- **Vitamin A**: Eggs provide 25ug.\\n- **Vitamin E**: Cheddar cheese (40mg) is highest.\\n- **Minerals**: \\n  - **Phosphorus**: Cheddar cheese (47mg) is highest.\\n  - **Zinc**: Lamb (31mg) leads.\\n  - **Iron**: Eggs (26mg) provide the most.\\n  - **Magnesium**: Walnuts (36mg) are the richest source.\\n  - **Selenium**: Beef (29ug) is the highest.\\n  - **Sodium**: Cheddar cheese (72mg) has the most.\\n  - **Potassium**: Walnuts (12mg) provide the most.\\n\\nOverall, the nutrient content varies significantly across these foods, highlighting their contributions to the diet of males aged 31-50 years.']"
      ]
     },
     "execution_count": 73,
     "metadata": {},
     "output_type": "execute_result"
    }
   ],
   "source": [
    "tables_summary"
   ]
  },
  {
   "cell_type": "markdown",
   "metadata": {},
   "source": [
    "### Initialize Retriever"
   ]
  },
  {
   "cell_type": "code",
   "execution_count": 70,
   "metadata": {},
   "outputs": [],
   "source": [
    "def initialize_retriever():\n",
    "\n",
    "    store = RedisStore(client=client)\n",
    "    id_key = \"doc_id\"\n",
    "    vectorstore = PGVector(\n",
    "            embeddings=OpenAIEmbeddings(),\n",
    "            collection_name=COLLECTION_NAME,\n",
    "            connection=CONNECTION_STRING,\n",
    "            use_jsonb=True,\n",
    "            )\n",
    "    retrieval_loader = MultiVectorRetriever(vectorstore=vectorstore, docstore=store, id_key=\"doc_id\")\n",
    "    return retrieval_loader"
   ]
  },
  {
   "cell_type": "code",
   "execution_count": 71,
   "metadata": {},
   "outputs": [
    {
     "ename": "IntegrityError",
     "evalue": "(psycopg.errors.NotNullViolation) null value in column \"name\" of relation \"langchain_pg_collection\" violates not-null constraint\nDETAIL:  Failing row contains (e4795516-05a2-4e2d-84a0-9f3ef8cd9142, null, null).\n[SQL: INSERT INTO langchain_pg_collection (uuid, name, cmetadata) VALUES (%(uuid)s::UUID, %(name)s::VARCHAR, %(cmetadata)s::JSON)]\n[parameters: {'uuid': UUID('e4795516-05a2-4e2d-84a0-9f3ef8cd9142'), 'name': None, 'cmetadata': Json(None)}]\n(Background on this error at: https://sqlalche.me/e/20/gkpj)",
     "output_type": "error",
     "traceback": [
      "\u001b[31m---------------------------------------------------------------------------\u001b[39m",
      "\u001b[31mNotNullViolation\u001b[39m                          Traceback (most recent call last)",
      "\u001b[36mFile \u001b[39m\u001b[32m~/local_llm_lab/local_rag/venv/lib/python3.12/site-packages/sqlalchemy/engine/base.py:1964\u001b[39m, in \u001b[36mConnection._exec_single_context\u001b[39m\u001b[34m(self, dialect, context, statement, parameters)\u001b[39m\n\u001b[32m   1963\u001b[39m     \u001b[38;5;28;01mif\u001b[39;00m \u001b[38;5;129;01mnot\u001b[39;00m evt_handled:\n\u001b[32m-> \u001b[39m\u001b[32m1964\u001b[39m         \u001b[38;5;28;43mself\u001b[39;49m\u001b[43m.\u001b[49m\u001b[43mdialect\u001b[49m\u001b[43m.\u001b[49m\u001b[43mdo_execute\u001b[49m\u001b[43m(\u001b[49m\n\u001b[32m   1965\u001b[39m \u001b[43m            \u001b[49m\u001b[43mcursor\u001b[49m\u001b[43m,\u001b[49m\u001b[43m \u001b[49m\u001b[43mstr_statement\u001b[49m\u001b[43m,\u001b[49m\u001b[43m \u001b[49m\u001b[43meffective_parameters\u001b[49m\u001b[43m,\u001b[49m\u001b[43m \u001b[49m\u001b[43mcontext\u001b[49m\n\u001b[32m   1966\u001b[39m \u001b[43m        \u001b[49m\u001b[43m)\u001b[49m\n\u001b[32m   1968\u001b[39m \u001b[38;5;28;01mif\u001b[39;00m \u001b[38;5;28mself\u001b[39m._has_events \u001b[38;5;129;01mor\u001b[39;00m \u001b[38;5;28mself\u001b[39m.engine._has_events:\n",
      "\u001b[36mFile \u001b[39m\u001b[32m~/local_llm_lab/local_rag/venv/lib/python3.12/site-packages/sqlalchemy/engine/default.py:942\u001b[39m, in \u001b[36mDefaultDialect.do_execute\u001b[39m\u001b[34m(self, cursor, statement, parameters, context)\u001b[39m\n\u001b[32m    941\u001b[39m \u001b[38;5;28;01mdef\u001b[39;00m\u001b[38;5;250m \u001b[39m\u001b[34mdo_execute\u001b[39m(\u001b[38;5;28mself\u001b[39m, cursor, statement, parameters, context=\u001b[38;5;28;01mNone\u001b[39;00m):\n\u001b[32m--> \u001b[39m\u001b[32m942\u001b[39m     \u001b[43mcursor\u001b[49m\u001b[43m.\u001b[49m\u001b[43mexecute\u001b[49m\u001b[43m(\u001b[49m\u001b[43mstatement\u001b[49m\u001b[43m,\u001b[49m\u001b[43m \u001b[49m\u001b[43mparameters\u001b[49m\u001b[43m)\u001b[49m\n",
      "\u001b[36mFile \u001b[39m\u001b[32m~/local_llm_lab/local_rag/venv/lib/python3.12/site-packages/psycopg/cursor.py:97\u001b[39m, in \u001b[36mCursor.execute\u001b[39m\u001b[34m(self, query, params, prepare, binary)\u001b[39m\n\u001b[32m     96\u001b[39m \u001b[38;5;28;01mexcept\u001b[39;00m e._NO_TRACEBACK \u001b[38;5;28;01mas\u001b[39;00m ex:\n\u001b[32m---> \u001b[39m\u001b[32m97\u001b[39m     \u001b[38;5;28;01mraise\u001b[39;00m ex.with_traceback(\u001b[38;5;28;01mNone\u001b[39;00m)\n\u001b[32m     98\u001b[39m \u001b[38;5;28;01mreturn\u001b[39;00m \u001b[38;5;28mself\u001b[39m\n",
      "\u001b[31mNotNullViolation\u001b[39m: null value in column \"name\" of relation \"langchain_pg_collection\" violates not-null constraint\nDETAIL:  Failing row contains (e4795516-05a2-4e2d-84a0-9f3ef8cd9142, null, null).",
      "\nThe above exception was the direct cause of the following exception:\n",
      "\u001b[31mIntegrityError\u001b[39m                            Traceback (most recent call last)",
      "\u001b[36mCell\u001b[39m\u001b[36m \u001b[39m\u001b[32mIn[71]\u001b[39m\u001b[32m, line 1\u001b[39m\n\u001b[32m----> \u001b[39m\u001b[32m1\u001b[39m load_retriever = \u001b[43minitialize_retriever\u001b[49m\u001b[43m(\u001b[49m\u001b[43m)\u001b[49m\n",
      "\u001b[36mCell\u001b[39m\u001b[36m \u001b[39m\u001b[32mIn[70]\u001b[39m\u001b[32m, line 5\u001b[39m, in \u001b[36minitialize_retriever\u001b[39m\u001b[34m()\u001b[39m\n\u001b[32m      3\u001b[39m store = RedisStore(client=client)\n\u001b[32m      4\u001b[39m id_key = \u001b[33m\"\u001b[39m\u001b[33mdoc_id\u001b[39m\u001b[33m\"\u001b[39m\n\u001b[32m----> \u001b[39m\u001b[32m5\u001b[39m vectorstore = \u001b[43mPGVector\u001b[49m\u001b[43m(\u001b[49m\n\u001b[32m      6\u001b[39m \u001b[43m        \u001b[49m\u001b[43membeddings\u001b[49m\u001b[43m=\u001b[49m\u001b[43mOpenAIEmbeddings\u001b[49m\u001b[43m(\u001b[49m\u001b[43m)\u001b[49m\u001b[43m,\u001b[49m\n\u001b[32m      7\u001b[39m \u001b[43m        \u001b[49m\u001b[43mcollection_name\u001b[49m\u001b[43m=\u001b[49m\u001b[43mCOLLECTION_NAME\u001b[49m\u001b[43m,\u001b[49m\n\u001b[32m      8\u001b[39m \u001b[43m        \u001b[49m\u001b[43mconnection\u001b[49m\u001b[43m=\u001b[49m\u001b[43mCONNECTION_STRING\u001b[49m\u001b[43m,\u001b[49m\n\u001b[32m      9\u001b[39m \u001b[43m        \u001b[49m\u001b[43muse_jsonb\u001b[49m\u001b[43m=\u001b[49m\u001b[38;5;28;43;01mTrue\u001b[39;49;00m\u001b[43m,\u001b[49m\n\u001b[32m     10\u001b[39m \u001b[43m        \u001b[49m\u001b[43m)\u001b[49m\n\u001b[32m     11\u001b[39m retrieval_loader = MultiVectorRetriever(vectorstore=vectorstore, docstore=store, id_key=\u001b[33m\"\u001b[39m\u001b[33mdoc_id\u001b[39m\u001b[33m\"\u001b[39m)\n\u001b[32m     12\u001b[39m \u001b[38;5;28;01mreturn\u001b[39;00m retrieval_loader\n",
      "\u001b[36mFile \u001b[39m\u001b[32m~/local_llm_lab/local_rag/venv/lib/python3.12/site-packages/langchain_postgres/vectorstores.py:463\u001b[39m, in \u001b[36mPGVector.__init__\u001b[39m\u001b[34m(self, embeddings, connection, embedding_length, collection_name, collection_metadata, distance_strategy, pre_delete_collection, logger, relevance_score_fn, engine_args, use_jsonb, create_extension, async_mode)\u001b[39m\n\u001b[32m    461\u001b[39m     \u001b[38;5;28;01mraise\u001b[39;00m \u001b[38;5;167;01mNotImplementedError\u001b[39;00m(\u001b[33m\"\u001b[39m\u001b[33muse_jsonb=False is no longer supported.\u001b[39m\u001b[33m\"\u001b[39m)\n\u001b[32m    462\u001b[39m \u001b[38;5;28;01mif\u001b[39;00m \u001b[38;5;129;01mnot\u001b[39;00m \u001b[38;5;28mself\u001b[39m.async_mode:\n\u001b[32m--> \u001b[39m\u001b[32m463\u001b[39m     \u001b[38;5;28;43mself\u001b[39;49m\u001b[43m.\u001b[49m\u001b[43m__post_init__\u001b[49m\u001b[43m(\u001b[49m\u001b[43m)\u001b[49m\n",
      "\u001b[36mFile \u001b[39m\u001b[32m~/local_llm_lab/local_rag/venv/lib/python3.12/site-packages/langchain_postgres/vectorstores.py:478\u001b[39m, in \u001b[36mPGVector.__post_init__\u001b[39m\u001b[34m(self)\u001b[39m\n\u001b[32m    476\u001b[39m \u001b[38;5;28mself\u001b[39m.EmbeddingStore = EmbeddingStore\n\u001b[32m    477\u001b[39m \u001b[38;5;28mself\u001b[39m.create_tables_if_not_exists()\n\u001b[32m--> \u001b[39m\u001b[32m478\u001b[39m \u001b[38;5;28;43mself\u001b[39;49m\u001b[43m.\u001b[49m\u001b[43mcreate_collection\u001b[49m\u001b[43m(\u001b[49m\u001b[43m)\u001b[49m\n",
      "\u001b[36mFile \u001b[39m\u001b[32m~/local_llm_lab/local_rag/venv/lib/python3.12/site-packages/langchain_postgres/vectorstores.py:542\u001b[39m, in \u001b[36mPGVector.create_collection\u001b[39m\u001b[34m(self)\u001b[39m\n\u001b[32m    540\u001b[39m     \u001b[38;5;28mself\u001b[39m.delete_collection()\n\u001b[32m    541\u001b[39m \u001b[38;5;28;01mwith\u001b[39;00m \u001b[38;5;28mself\u001b[39m._make_sync_session() \u001b[38;5;28;01mas\u001b[39;00m session:\n\u001b[32m--> \u001b[39m\u001b[32m542\u001b[39m     \u001b[38;5;28;43mself\u001b[39;49m\u001b[43m.\u001b[49m\u001b[43mCollectionStore\u001b[49m\u001b[43m.\u001b[49m\u001b[43mget_or_create\u001b[49m\u001b[43m(\u001b[49m\n\u001b[32m    543\u001b[39m \u001b[43m        \u001b[49m\u001b[43msession\u001b[49m\u001b[43m,\u001b[49m\u001b[43m \u001b[49m\u001b[38;5;28;43mself\u001b[39;49m\u001b[43m.\u001b[49m\u001b[43mcollection_name\u001b[49m\u001b[43m,\u001b[49m\u001b[43m \u001b[49m\u001b[43mcmetadata\u001b[49m\u001b[43m=\u001b[49m\u001b[38;5;28;43mself\u001b[39;49m\u001b[43m.\u001b[49m\u001b[43mcollection_metadata\u001b[49m\n\u001b[32m    544\u001b[39m \u001b[43m    \u001b[49m\u001b[43m)\u001b[49m\n\u001b[32m    545\u001b[39m     session.commit()\n",
      "\u001b[36mFile \u001b[39m\u001b[32m~/local_llm_lab/local_rag/venv/lib/python3.12/site-packages/langchain_postgres/vectorstores.py:169\u001b[39m, in \u001b[36m_get_embedding_collection_store.<locals>.CollectionStore.get_or_create\u001b[39m\u001b[34m(cls, session, name, cmetadata)\u001b[39m\n\u001b[32m    167\u001b[39m collection = \u001b[38;5;28mcls\u001b[39m(name=name, cmetadata=cmetadata)\n\u001b[32m    168\u001b[39m session.add(collection)\n\u001b[32m--> \u001b[39m\u001b[32m169\u001b[39m \u001b[43msession\u001b[49m\u001b[43m.\u001b[49m\u001b[43mcommit\u001b[49m\u001b[43m(\u001b[49m\u001b[43m)\u001b[49m\n\u001b[32m    170\u001b[39m created = \u001b[38;5;28;01mTrue\u001b[39;00m\n\u001b[32m    171\u001b[39m \u001b[38;5;28;01mreturn\u001b[39;00m collection, created\n",
      "\u001b[36mFile \u001b[39m\u001b[32m~/local_llm_lab/local_rag/venv/lib/python3.12/site-packages/sqlalchemy/orm/session.py:2032\u001b[39m, in \u001b[36mSession.commit\u001b[39m\u001b[34m(self)\u001b[39m\n\u001b[32m   2029\u001b[39m \u001b[38;5;28;01mif\u001b[39;00m trans \u001b[38;5;129;01mis\u001b[39;00m \u001b[38;5;28;01mNone\u001b[39;00m:\n\u001b[32m   2030\u001b[39m     trans = \u001b[38;5;28mself\u001b[39m._autobegin_t()\n\u001b[32m-> \u001b[39m\u001b[32m2032\u001b[39m \u001b[43mtrans\u001b[49m\u001b[43m.\u001b[49m\u001b[43mcommit\u001b[49m\u001b[43m(\u001b[49m\u001b[43m_to_root\u001b[49m\u001b[43m=\u001b[49m\u001b[38;5;28;43;01mTrue\u001b[39;49;00m\u001b[43m)\u001b[49m\n",
      "\u001b[36mFile \u001b[39m\u001b[32m<string>:2\u001b[39m, in \u001b[36mcommit\u001b[39m\u001b[34m(self, _to_root)\u001b[39m\n",
      "\u001b[36mFile \u001b[39m\u001b[32m~/local_llm_lab/local_rag/venv/lib/python3.12/site-packages/sqlalchemy/orm/state_changes.py:139\u001b[39m, in \u001b[36m_StateChange.declare_states.<locals>._go\u001b[39m\u001b[34m(fn, self, *arg, **kw)\u001b[39m\n\u001b[32m    137\u001b[39m \u001b[38;5;28mself\u001b[39m._next_state = _StateChangeStates.CHANGE_IN_PROGRESS\n\u001b[32m    138\u001b[39m \u001b[38;5;28;01mtry\u001b[39;00m:\n\u001b[32m--> \u001b[39m\u001b[32m139\u001b[39m     ret_value = \u001b[43mfn\u001b[49m\u001b[43m(\u001b[49m\u001b[38;5;28;43mself\u001b[39;49m\u001b[43m,\u001b[49m\u001b[43m \u001b[49m\u001b[43m*\u001b[49m\u001b[43marg\u001b[49m\u001b[43m,\u001b[49m\u001b[43m \u001b[49m\u001b[43m*\u001b[49m\u001b[43m*\u001b[49m\u001b[43mkw\u001b[49m\u001b[43m)\u001b[49m\n\u001b[32m    140\u001b[39m \u001b[38;5;28;01mexcept\u001b[39;00m:\n\u001b[32m    141\u001b[39m     \u001b[38;5;28;01mraise\u001b[39;00m\n",
      "\u001b[36mFile \u001b[39m\u001b[32m~/local_llm_lab/local_rag/venv/lib/python3.12/site-packages/sqlalchemy/orm/session.py:1313\u001b[39m, in \u001b[36mSessionTransaction.commit\u001b[39m\u001b[34m(self, _to_root)\u001b[39m\n\u001b[32m   1311\u001b[39m \u001b[38;5;28;01mif\u001b[39;00m \u001b[38;5;28mself\u001b[39m._state \u001b[38;5;129;01mis\u001b[39;00m \u001b[38;5;129;01mnot\u001b[39;00m SessionTransactionState.PREPARED:\n\u001b[32m   1312\u001b[39m     \u001b[38;5;28;01mwith\u001b[39;00m \u001b[38;5;28mself\u001b[39m._expect_state(SessionTransactionState.PREPARED):\n\u001b[32m-> \u001b[39m\u001b[32m1313\u001b[39m         \u001b[38;5;28;43mself\u001b[39;49m\u001b[43m.\u001b[49m\u001b[43m_prepare_impl\u001b[49m\u001b[43m(\u001b[49m\u001b[43m)\u001b[49m\n\u001b[32m   1315\u001b[39m \u001b[38;5;28;01mif\u001b[39;00m \u001b[38;5;28mself\u001b[39m._parent \u001b[38;5;129;01mis\u001b[39;00m \u001b[38;5;28;01mNone\u001b[39;00m \u001b[38;5;129;01mor\u001b[39;00m \u001b[38;5;28mself\u001b[39m.nested:\n\u001b[32m   1316\u001b[39m     \u001b[38;5;28;01mfor\u001b[39;00m conn, trans, should_commit, autoclose \u001b[38;5;129;01min\u001b[39;00m \u001b[38;5;28mset\u001b[39m(\n\u001b[32m   1317\u001b[39m         \u001b[38;5;28mself\u001b[39m._connections.values()\n\u001b[32m   1318\u001b[39m     ):\n",
      "\u001b[36mFile \u001b[39m\u001b[32m<string>:2\u001b[39m, in \u001b[36m_prepare_impl\u001b[39m\u001b[34m(self)\u001b[39m\n",
      "\u001b[36mFile \u001b[39m\u001b[32m~/local_llm_lab/local_rag/venv/lib/python3.12/site-packages/sqlalchemy/orm/state_changes.py:139\u001b[39m, in \u001b[36m_StateChange.declare_states.<locals>._go\u001b[39m\u001b[34m(fn, self, *arg, **kw)\u001b[39m\n\u001b[32m    137\u001b[39m \u001b[38;5;28mself\u001b[39m._next_state = _StateChangeStates.CHANGE_IN_PROGRESS\n\u001b[32m    138\u001b[39m \u001b[38;5;28;01mtry\u001b[39;00m:\n\u001b[32m--> \u001b[39m\u001b[32m139\u001b[39m     ret_value = \u001b[43mfn\u001b[49m\u001b[43m(\u001b[49m\u001b[38;5;28;43mself\u001b[39;49m\u001b[43m,\u001b[49m\u001b[43m \u001b[49m\u001b[43m*\u001b[49m\u001b[43marg\u001b[49m\u001b[43m,\u001b[49m\u001b[43m \u001b[49m\u001b[43m*\u001b[49m\u001b[43m*\u001b[49m\u001b[43mkw\u001b[49m\u001b[43m)\u001b[49m\n\u001b[32m    140\u001b[39m \u001b[38;5;28;01mexcept\u001b[39;00m:\n\u001b[32m    141\u001b[39m     \u001b[38;5;28;01mraise\u001b[39;00m\n",
      "\u001b[36mFile \u001b[39m\u001b[32m~/local_llm_lab/local_rag/venv/lib/python3.12/site-packages/sqlalchemy/orm/session.py:1288\u001b[39m, in \u001b[36mSessionTransaction._prepare_impl\u001b[39m\u001b[34m(self)\u001b[39m\n\u001b[32m   1286\u001b[39m     \u001b[38;5;28;01mif\u001b[39;00m \u001b[38;5;28mself\u001b[39m.session._is_clean():\n\u001b[32m   1287\u001b[39m         \u001b[38;5;28;01mbreak\u001b[39;00m\n\u001b[32m-> \u001b[39m\u001b[32m1288\u001b[39m     \u001b[38;5;28;43mself\u001b[39;49m\u001b[43m.\u001b[49m\u001b[43msession\u001b[49m\u001b[43m.\u001b[49m\u001b[43mflush\u001b[49m\u001b[43m(\u001b[49m\u001b[43m)\u001b[49m\n\u001b[32m   1289\u001b[39m \u001b[38;5;28;01melse\u001b[39;00m:\n\u001b[32m   1290\u001b[39m     \u001b[38;5;28;01mraise\u001b[39;00m exc.FlushError(\n\u001b[32m   1291\u001b[39m         \u001b[33m\"\u001b[39m\u001b[33mOver 100 subsequent flushes have occurred within \u001b[39m\u001b[33m\"\u001b[39m\n\u001b[32m   1292\u001b[39m         \u001b[33m\"\u001b[39m\u001b[33msession.commit() - is an after_flush() hook \u001b[39m\u001b[33m\"\u001b[39m\n\u001b[32m   1293\u001b[39m         \u001b[33m\"\u001b[39m\u001b[33mcreating new objects?\u001b[39m\u001b[33m\"\u001b[39m\n\u001b[32m   1294\u001b[39m     )\n",
      "\u001b[36mFile \u001b[39m\u001b[32m~/local_llm_lab/local_rag/venv/lib/python3.12/site-packages/sqlalchemy/orm/session.py:4353\u001b[39m, in \u001b[36mSession.flush\u001b[39m\u001b[34m(self, objects)\u001b[39m\n\u001b[32m   4351\u001b[39m \u001b[38;5;28;01mtry\u001b[39;00m:\n\u001b[32m   4352\u001b[39m     \u001b[38;5;28mself\u001b[39m._flushing = \u001b[38;5;28;01mTrue\u001b[39;00m\n\u001b[32m-> \u001b[39m\u001b[32m4353\u001b[39m     \u001b[38;5;28;43mself\u001b[39;49m\u001b[43m.\u001b[49m\u001b[43m_flush\u001b[49m\u001b[43m(\u001b[49m\u001b[43mobjects\u001b[49m\u001b[43m)\u001b[49m\n\u001b[32m   4354\u001b[39m \u001b[38;5;28;01mfinally\u001b[39;00m:\n\u001b[32m   4355\u001b[39m     \u001b[38;5;28mself\u001b[39m._flushing = \u001b[38;5;28;01mFalse\u001b[39;00m\n",
      "\u001b[36mFile \u001b[39m\u001b[32m~/local_llm_lab/local_rag/venv/lib/python3.12/site-packages/sqlalchemy/orm/session.py:4488\u001b[39m, in \u001b[36mSession._flush\u001b[39m\u001b[34m(self, objects)\u001b[39m\n\u001b[32m   4485\u001b[39m     transaction.commit()\n\u001b[32m   4487\u001b[39m \u001b[38;5;28;01mexcept\u001b[39;00m:\n\u001b[32m-> \u001b[39m\u001b[32m4488\u001b[39m \u001b[43m    \u001b[49m\u001b[38;5;28;43;01mwith\u001b[39;49;00m\u001b[43m \u001b[49m\u001b[43mutil\u001b[49m\u001b[43m.\u001b[49m\u001b[43msafe_reraise\u001b[49m\u001b[43m(\u001b[49m\u001b[43m)\u001b[49m\u001b[43m:\u001b[49m\n\u001b[32m   4489\u001b[39m \u001b[43m        \u001b[49m\u001b[43mtransaction\u001b[49m\u001b[43m.\u001b[49m\u001b[43mrollback\u001b[49m\u001b[43m(\u001b[49m\u001b[43m_capture_exception\u001b[49m\u001b[43m=\u001b[49m\u001b[38;5;28;43;01mTrue\u001b[39;49;00m\u001b[43m)\u001b[49m\n",
      "\u001b[36mFile \u001b[39m\u001b[32m~/local_llm_lab/local_rag/venv/lib/python3.12/site-packages/sqlalchemy/util/langhelpers.py:146\u001b[39m, in \u001b[36msafe_reraise.__exit__\u001b[39m\u001b[34m(self, type_, value, traceback)\u001b[39m\n\u001b[32m    144\u001b[39m     \u001b[38;5;28;01massert\u001b[39;00m exc_value \u001b[38;5;129;01mis\u001b[39;00m \u001b[38;5;129;01mnot\u001b[39;00m \u001b[38;5;28;01mNone\u001b[39;00m\n\u001b[32m    145\u001b[39m     \u001b[38;5;28mself\u001b[39m._exc_info = \u001b[38;5;28;01mNone\u001b[39;00m  \u001b[38;5;66;03m# remove potential circular references\u001b[39;00m\n\u001b[32m--> \u001b[39m\u001b[32m146\u001b[39m     \u001b[38;5;28;01mraise\u001b[39;00m exc_value.with_traceback(exc_tb)\n\u001b[32m    147\u001b[39m \u001b[38;5;28;01melse\u001b[39;00m:\n\u001b[32m    148\u001b[39m     \u001b[38;5;28mself\u001b[39m._exc_info = \u001b[38;5;28;01mNone\u001b[39;00m  \u001b[38;5;66;03m# remove potential circular references\u001b[39;00m\n",
      "\u001b[36mFile \u001b[39m\u001b[32m~/local_llm_lab/local_rag/venv/lib/python3.12/site-packages/sqlalchemy/orm/session.py:4449\u001b[39m, in \u001b[36mSession._flush\u001b[39m\u001b[34m(self, objects)\u001b[39m\n\u001b[32m   4447\u001b[39m \u001b[38;5;28mself\u001b[39m._warn_on_events = \u001b[38;5;28;01mTrue\u001b[39;00m\n\u001b[32m   4448\u001b[39m \u001b[38;5;28;01mtry\u001b[39;00m:\n\u001b[32m-> \u001b[39m\u001b[32m4449\u001b[39m     \u001b[43mflush_context\u001b[49m\u001b[43m.\u001b[49m\u001b[43mexecute\u001b[49m\u001b[43m(\u001b[49m\u001b[43m)\u001b[49m\n\u001b[32m   4450\u001b[39m \u001b[38;5;28;01mfinally\u001b[39;00m:\n\u001b[32m   4451\u001b[39m     \u001b[38;5;28mself\u001b[39m._warn_on_events = \u001b[38;5;28;01mFalse\u001b[39;00m\n",
      "\u001b[36mFile \u001b[39m\u001b[32m~/local_llm_lab/local_rag/venv/lib/python3.12/site-packages/sqlalchemy/orm/unitofwork.py:466\u001b[39m, in \u001b[36mUOWTransaction.execute\u001b[39m\u001b[34m(self)\u001b[39m\n\u001b[32m    464\u001b[39m \u001b[38;5;28;01melse\u001b[39;00m:\n\u001b[32m    465\u001b[39m     \u001b[38;5;28;01mfor\u001b[39;00m rec \u001b[38;5;129;01min\u001b[39;00m topological.sort(\u001b[38;5;28mself\u001b[39m.dependencies, postsort_actions):\n\u001b[32m--> \u001b[39m\u001b[32m466\u001b[39m         \u001b[43mrec\u001b[49m\u001b[43m.\u001b[49m\u001b[43mexecute\u001b[49m\u001b[43m(\u001b[49m\u001b[38;5;28;43mself\u001b[39;49m\u001b[43m)\u001b[49m\n",
      "\u001b[36mFile \u001b[39m\u001b[32m~/local_llm_lab/local_rag/venv/lib/python3.12/site-packages/sqlalchemy/orm/unitofwork.py:642\u001b[39m, in \u001b[36mSaveUpdateAll.execute\u001b[39m\u001b[34m(self, uow)\u001b[39m\n\u001b[32m    640\u001b[39m \u001b[38;5;129m@util\u001b[39m.preload_module(\u001b[33m\"\u001b[39m\u001b[33msqlalchemy.orm.persistence\u001b[39m\u001b[33m\"\u001b[39m)\n\u001b[32m    641\u001b[39m \u001b[38;5;28;01mdef\u001b[39;00m\u001b[38;5;250m \u001b[39m\u001b[34mexecute\u001b[39m(\u001b[38;5;28mself\u001b[39m, uow):\n\u001b[32m--> \u001b[39m\u001b[32m642\u001b[39m     \u001b[43mutil\u001b[49m\u001b[43m.\u001b[49m\u001b[43mpreloaded\u001b[49m\u001b[43m.\u001b[49m\u001b[43morm_persistence\u001b[49m\u001b[43m.\u001b[49m\u001b[43msave_obj\u001b[49m\u001b[43m(\u001b[49m\n\u001b[32m    643\u001b[39m \u001b[43m        \u001b[49m\u001b[38;5;28;43mself\u001b[39;49m\u001b[43m.\u001b[49m\u001b[43mmapper\u001b[49m\u001b[43m,\u001b[49m\n\u001b[32m    644\u001b[39m \u001b[43m        \u001b[49m\u001b[43muow\u001b[49m\u001b[43m.\u001b[49m\u001b[43mstates_for_mapper_hierarchy\u001b[49m\u001b[43m(\u001b[49m\u001b[38;5;28;43mself\u001b[39;49m\u001b[43m.\u001b[49m\u001b[43mmapper\u001b[49m\u001b[43m,\u001b[49m\u001b[43m \u001b[49m\u001b[38;5;28;43;01mFalse\u001b[39;49;00m\u001b[43m,\u001b[49m\u001b[43m \u001b[49m\u001b[38;5;28;43;01mFalse\u001b[39;49;00m\u001b[43m)\u001b[49m\u001b[43m,\u001b[49m\n\u001b[32m    645\u001b[39m \u001b[43m        \u001b[49m\u001b[43muow\u001b[49m\u001b[43m,\u001b[49m\n\u001b[32m    646\u001b[39m \u001b[43m    \u001b[49m\u001b[43m)\u001b[49m\n",
      "\u001b[36mFile \u001b[39m\u001b[32m~/local_llm_lab/local_rag/venv/lib/python3.12/site-packages/sqlalchemy/orm/persistence.py:93\u001b[39m, in \u001b[36msave_obj\u001b[39m\u001b[34m(base_mapper, states, uowtransaction, single)\u001b[39m\n\u001b[32m     81\u001b[39m     update = _collect_update_commands(\n\u001b[32m     82\u001b[39m         uowtransaction, table, states_to_update\n\u001b[32m     83\u001b[39m     )\n\u001b[32m     85\u001b[39m     _emit_update_statements(\n\u001b[32m     86\u001b[39m         base_mapper,\n\u001b[32m     87\u001b[39m         uowtransaction,\n\u001b[32m   (...)\u001b[39m\u001b[32m     90\u001b[39m         update,\n\u001b[32m     91\u001b[39m     )\n\u001b[32m---> \u001b[39m\u001b[32m93\u001b[39m     \u001b[43m_emit_insert_statements\u001b[49m\u001b[43m(\u001b[49m\n\u001b[32m     94\u001b[39m \u001b[43m        \u001b[49m\u001b[43mbase_mapper\u001b[49m\u001b[43m,\u001b[49m\n\u001b[32m     95\u001b[39m \u001b[43m        \u001b[49m\u001b[43muowtransaction\u001b[49m\u001b[43m,\u001b[49m\n\u001b[32m     96\u001b[39m \u001b[43m        \u001b[49m\u001b[43mmapper\u001b[49m\u001b[43m,\u001b[49m\n\u001b[32m     97\u001b[39m \u001b[43m        \u001b[49m\u001b[43mtable\u001b[49m\u001b[43m,\u001b[49m\n\u001b[32m     98\u001b[39m \u001b[43m        \u001b[49m\u001b[43minsert\u001b[49m\u001b[43m,\u001b[49m\n\u001b[32m     99\u001b[39m \u001b[43m    \u001b[49m\u001b[43m)\u001b[49m\n\u001b[32m    101\u001b[39m _finalize_insert_update_commands(\n\u001b[32m    102\u001b[39m     base_mapper,\n\u001b[32m    103\u001b[39m     uowtransaction,\n\u001b[32m   (...)\u001b[39m\u001b[32m    119\u001b[39m     ),\n\u001b[32m    120\u001b[39m )\n",
      "\u001b[36mFile \u001b[39m\u001b[32m~/local_llm_lab/local_rag/venv/lib/python3.12/site-packages/sqlalchemy/orm/persistence.py:1233\u001b[39m, in \u001b[36m_emit_insert_statements\u001b[39m\u001b[34m(base_mapper, uowtransaction, mapper, table, insert, bookkeeping, use_orm_insert_stmt, execution_options)\u001b[39m\n\u001b[32m   1227\u001b[39m     result = connection.execute(\n\u001b[32m   1228\u001b[39m         statement.values(value_params),\n\u001b[32m   1229\u001b[39m         params,\n\u001b[32m   1230\u001b[39m         execution_options=execution_options,\n\u001b[32m   1231\u001b[39m     )\n\u001b[32m   1232\u001b[39m \u001b[38;5;28;01melse\u001b[39;00m:\n\u001b[32m-> \u001b[39m\u001b[32m1233\u001b[39m     result = \u001b[43mconnection\u001b[49m\u001b[43m.\u001b[49m\u001b[43mexecute\u001b[49m\u001b[43m(\u001b[49m\n\u001b[32m   1234\u001b[39m \u001b[43m        \u001b[49m\u001b[43mstatement\u001b[49m\u001b[43m,\u001b[49m\n\u001b[32m   1235\u001b[39m \u001b[43m        \u001b[49m\u001b[43mparams\u001b[49m\u001b[43m,\u001b[49m\n\u001b[32m   1236\u001b[39m \u001b[43m        \u001b[49m\u001b[43mexecution_options\u001b[49m\u001b[43m=\u001b[49m\u001b[43mexecution_options\u001b[49m\u001b[43m,\u001b[49m\n\u001b[32m   1237\u001b[39m \u001b[43m    \u001b[49m\u001b[43m)\u001b[49m\n\u001b[32m   1239\u001b[39m primary_key = result.inserted_primary_key\n\u001b[32m   1240\u001b[39m \u001b[38;5;28;01mif\u001b[39;00m primary_key \u001b[38;5;129;01mis\u001b[39;00m \u001b[38;5;28;01mNone\u001b[39;00m:\n",
      "\u001b[36mFile \u001b[39m\u001b[32m~/local_llm_lab/local_rag/venv/lib/python3.12/site-packages/sqlalchemy/engine/base.py:1416\u001b[39m, in \u001b[36mConnection.execute\u001b[39m\u001b[34m(self, statement, parameters, execution_options)\u001b[39m\n\u001b[32m   1414\u001b[39m     \u001b[38;5;28;01mraise\u001b[39;00m exc.ObjectNotExecutableError(statement) \u001b[38;5;28;01mfrom\u001b[39;00m\u001b[38;5;250m \u001b[39m\u001b[34;01merr\u001b[39;00m\n\u001b[32m   1415\u001b[39m \u001b[38;5;28;01melse\u001b[39;00m:\n\u001b[32m-> \u001b[39m\u001b[32m1416\u001b[39m     \u001b[38;5;28;01mreturn\u001b[39;00m \u001b[43mmeth\u001b[49m\u001b[43m(\u001b[49m\n\u001b[32m   1417\u001b[39m \u001b[43m        \u001b[49m\u001b[38;5;28;43mself\u001b[39;49m\u001b[43m,\u001b[49m\n\u001b[32m   1418\u001b[39m \u001b[43m        \u001b[49m\u001b[43mdistilled_parameters\u001b[49m\u001b[43m,\u001b[49m\n\u001b[32m   1419\u001b[39m \u001b[43m        \u001b[49m\u001b[43mexecution_options\u001b[49m\u001b[43m \u001b[49m\u001b[38;5;129;43;01mor\u001b[39;49;00m\u001b[43m \u001b[49m\u001b[43mNO_OPTIONS\u001b[49m\u001b[43m,\u001b[49m\n\u001b[32m   1420\u001b[39m \u001b[43m    \u001b[49m\u001b[43m)\u001b[49m\n",
      "\u001b[36mFile \u001b[39m\u001b[32m~/local_llm_lab/local_rag/venv/lib/python3.12/site-packages/sqlalchemy/sql/elements.py:523\u001b[39m, in \u001b[36mClauseElement._execute_on_connection\u001b[39m\u001b[34m(self, connection, distilled_params, execution_options)\u001b[39m\n\u001b[32m    521\u001b[39m     \u001b[38;5;28;01mif\u001b[39;00m TYPE_CHECKING:\n\u001b[32m    522\u001b[39m         \u001b[38;5;28;01massert\u001b[39;00m \u001b[38;5;28misinstance\u001b[39m(\u001b[38;5;28mself\u001b[39m, Executable)\n\u001b[32m--> \u001b[39m\u001b[32m523\u001b[39m     \u001b[38;5;28;01mreturn\u001b[39;00m \u001b[43mconnection\u001b[49m\u001b[43m.\u001b[49m\u001b[43m_execute_clauseelement\u001b[49m\u001b[43m(\u001b[49m\n\u001b[32m    524\u001b[39m \u001b[43m        \u001b[49m\u001b[38;5;28;43mself\u001b[39;49m\u001b[43m,\u001b[49m\u001b[43m \u001b[49m\u001b[43mdistilled_params\u001b[49m\u001b[43m,\u001b[49m\u001b[43m \u001b[49m\u001b[43mexecution_options\u001b[49m\n\u001b[32m    525\u001b[39m \u001b[43m    \u001b[49m\u001b[43m)\u001b[49m\n\u001b[32m    526\u001b[39m \u001b[38;5;28;01melse\u001b[39;00m:\n\u001b[32m    527\u001b[39m     \u001b[38;5;28;01mraise\u001b[39;00m exc.ObjectNotExecutableError(\u001b[38;5;28mself\u001b[39m)\n",
      "\u001b[36mFile \u001b[39m\u001b[32m~/local_llm_lab/local_rag/venv/lib/python3.12/site-packages/sqlalchemy/engine/base.py:1638\u001b[39m, in \u001b[36mConnection._execute_clauseelement\u001b[39m\u001b[34m(self, elem, distilled_parameters, execution_options)\u001b[39m\n\u001b[32m   1626\u001b[39m compiled_cache: Optional[CompiledCacheType] = execution_options.get(\n\u001b[32m   1627\u001b[39m     \u001b[33m\"\u001b[39m\u001b[33mcompiled_cache\u001b[39m\u001b[33m\"\u001b[39m, \u001b[38;5;28mself\u001b[39m.engine._compiled_cache\n\u001b[32m   1628\u001b[39m )\n\u001b[32m   1630\u001b[39m compiled_sql, extracted_params, cache_hit = elem._compile_w_cache(\n\u001b[32m   1631\u001b[39m     dialect=dialect,\n\u001b[32m   1632\u001b[39m     compiled_cache=compiled_cache,\n\u001b[32m   (...)\u001b[39m\u001b[32m   1636\u001b[39m     linting=\u001b[38;5;28mself\u001b[39m.dialect.compiler_linting | compiler.WARN_LINTING,\n\u001b[32m   1637\u001b[39m )\n\u001b[32m-> \u001b[39m\u001b[32m1638\u001b[39m ret = \u001b[38;5;28;43mself\u001b[39;49m\u001b[43m.\u001b[49m\u001b[43m_execute_context\u001b[49m\u001b[43m(\u001b[49m\n\u001b[32m   1639\u001b[39m \u001b[43m    \u001b[49m\u001b[43mdialect\u001b[49m\u001b[43m,\u001b[49m\n\u001b[32m   1640\u001b[39m \u001b[43m    \u001b[49m\u001b[43mdialect\u001b[49m\u001b[43m.\u001b[49m\u001b[43mexecution_ctx_cls\u001b[49m\u001b[43m.\u001b[49m\u001b[43m_init_compiled\u001b[49m\u001b[43m,\u001b[49m\n\u001b[32m   1641\u001b[39m \u001b[43m    \u001b[49m\u001b[43mcompiled_sql\u001b[49m\u001b[43m,\u001b[49m\n\u001b[32m   1642\u001b[39m \u001b[43m    \u001b[49m\u001b[43mdistilled_parameters\u001b[49m\u001b[43m,\u001b[49m\n\u001b[32m   1643\u001b[39m \u001b[43m    \u001b[49m\u001b[43mexecution_options\u001b[49m\u001b[43m,\u001b[49m\n\u001b[32m   1644\u001b[39m \u001b[43m    \u001b[49m\u001b[43mcompiled_sql\u001b[49m\u001b[43m,\u001b[49m\n\u001b[32m   1645\u001b[39m \u001b[43m    \u001b[49m\u001b[43mdistilled_parameters\u001b[49m\u001b[43m,\u001b[49m\n\u001b[32m   1646\u001b[39m \u001b[43m    \u001b[49m\u001b[43melem\u001b[49m\u001b[43m,\u001b[49m\n\u001b[32m   1647\u001b[39m \u001b[43m    \u001b[49m\u001b[43mextracted_params\u001b[49m\u001b[43m,\u001b[49m\n\u001b[32m   1648\u001b[39m \u001b[43m    \u001b[49m\u001b[43mcache_hit\u001b[49m\u001b[43m=\u001b[49m\u001b[43mcache_hit\u001b[49m\u001b[43m,\u001b[49m\n\u001b[32m   1649\u001b[39m \u001b[43m\u001b[49m\u001b[43m)\u001b[49m\n\u001b[32m   1650\u001b[39m \u001b[38;5;28;01mif\u001b[39;00m has_events:\n\u001b[32m   1651\u001b[39m     \u001b[38;5;28mself\u001b[39m.dispatch.after_execute(\n\u001b[32m   1652\u001b[39m         \u001b[38;5;28mself\u001b[39m,\n\u001b[32m   1653\u001b[39m         elem,\n\u001b[32m   (...)\u001b[39m\u001b[32m   1657\u001b[39m         ret,\n\u001b[32m   1658\u001b[39m     )\n",
      "\u001b[36mFile \u001b[39m\u001b[32m~/local_llm_lab/local_rag/venv/lib/python3.12/site-packages/sqlalchemy/engine/base.py:1843\u001b[39m, in \u001b[36mConnection._execute_context\u001b[39m\u001b[34m(self, dialect, constructor, statement, parameters, execution_options, *args, **kw)\u001b[39m\n\u001b[32m   1841\u001b[39m     \u001b[38;5;28;01mreturn\u001b[39;00m \u001b[38;5;28mself\u001b[39m._exec_insertmany_context(dialect, context)\n\u001b[32m   1842\u001b[39m \u001b[38;5;28;01melse\u001b[39;00m:\n\u001b[32m-> \u001b[39m\u001b[32m1843\u001b[39m     \u001b[38;5;28;01mreturn\u001b[39;00m \u001b[38;5;28;43mself\u001b[39;49m\u001b[43m.\u001b[49m\u001b[43m_exec_single_context\u001b[49m\u001b[43m(\u001b[49m\n\u001b[32m   1844\u001b[39m \u001b[43m        \u001b[49m\u001b[43mdialect\u001b[49m\u001b[43m,\u001b[49m\u001b[43m \u001b[49m\u001b[43mcontext\u001b[49m\u001b[43m,\u001b[49m\u001b[43m \u001b[49m\u001b[43mstatement\u001b[49m\u001b[43m,\u001b[49m\u001b[43m \u001b[49m\u001b[43mparameters\u001b[49m\n\u001b[32m   1845\u001b[39m \u001b[43m    \u001b[49m\u001b[43m)\u001b[49m\n",
      "\u001b[36mFile \u001b[39m\u001b[32m~/local_llm_lab/local_rag/venv/lib/python3.12/site-packages/sqlalchemy/engine/base.py:1983\u001b[39m, in \u001b[36mConnection._exec_single_context\u001b[39m\u001b[34m(self, dialect, context, statement, parameters)\u001b[39m\n\u001b[32m   1980\u001b[39m     result = context._setup_result_proxy()\n\u001b[32m   1982\u001b[39m \u001b[38;5;28;01mexcept\u001b[39;00m \u001b[38;5;167;01mBaseException\u001b[39;00m \u001b[38;5;28;01mas\u001b[39;00m e:\n\u001b[32m-> \u001b[39m\u001b[32m1983\u001b[39m     \u001b[38;5;28;43mself\u001b[39;49m\u001b[43m.\u001b[49m\u001b[43m_handle_dbapi_exception\u001b[49m\u001b[43m(\u001b[49m\n\u001b[32m   1984\u001b[39m \u001b[43m        \u001b[49m\u001b[43me\u001b[49m\u001b[43m,\u001b[49m\u001b[43m \u001b[49m\u001b[43mstr_statement\u001b[49m\u001b[43m,\u001b[49m\u001b[43m \u001b[49m\u001b[43meffective_parameters\u001b[49m\u001b[43m,\u001b[49m\u001b[43m \u001b[49m\u001b[43mcursor\u001b[49m\u001b[43m,\u001b[49m\u001b[43m \u001b[49m\u001b[43mcontext\u001b[49m\n\u001b[32m   1985\u001b[39m \u001b[43m    \u001b[49m\u001b[43m)\u001b[49m\n\u001b[32m   1987\u001b[39m \u001b[38;5;28;01mreturn\u001b[39;00m result\n",
      "\u001b[36mFile \u001b[39m\u001b[32m~/local_llm_lab/local_rag/venv/lib/python3.12/site-packages/sqlalchemy/engine/base.py:2352\u001b[39m, in \u001b[36mConnection._handle_dbapi_exception\u001b[39m\u001b[34m(self, e, statement, parameters, cursor, context, is_sub_exec)\u001b[39m\n\u001b[32m   2350\u001b[39m \u001b[38;5;28;01melif\u001b[39;00m should_wrap:\n\u001b[32m   2351\u001b[39m     \u001b[38;5;28;01massert\u001b[39;00m sqlalchemy_exception \u001b[38;5;129;01mis\u001b[39;00m \u001b[38;5;129;01mnot\u001b[39;00m \u001b[38;5;28;01mNone\u001b[39;00m\n\u001b[32m-> \u001b[39m\u001b[32m2352\u001b[39m     \u001b[38;5;28;01mraise\u001b[39;00m sqlalchemy_exception.with_traceback(exc_info[\u001b[32m2\u001b[39m]) \u001b[38;5;28;01mfrom\u001b[39;00m\u001b[38;5;250m \u001b[39m\u001b[34;01me\u001b[39;00m\n\u001b[32m   2353\u001b[39m \u001b[38;5;28;01melse\u001b[39;00m:\n\u001b[32m   2354\u001b[39m     \u001b[38;5;28;01massert\u001b[39;00m exc_info[\u001b[32m1\u001b[39m] \u001b[38;5;129;01mis\u001b[39;00m \u001b[38;5;129;01mnot\u001b[39;00m \u001b[38;5;28;01mNone\u001b[39;00m\n",
      "\u001b[36mFile \u001b[39m\u001b[32m~/local_llm_lab/local_rag/venv/lib/python3.12/site-packages/sqlalchemy/engine/base.py:1964\u001b[39m, in \u001b[36mConnection._exec_single_context\u001b[39m\u001b[34m(self, dialect, context, statement, parameters)\u001b[39m\n\u001b[32m   1962\u001b[39m                 \u001b[38;5;28;01mbreak\u001b[39;00m\n\u001b[32m   1963\u001b[39m     \u001b[38;5;28;01mif\u001b[39;00m \u001b[38;5;129;01mnot\u001b[39;00m evt_handled:\n\u001b[32m-> \u001b[39m\u001b[32m1964\u001b[39m         \u001b[38;5;28;43mself\u001b[39;49m\u001b[43m.\u001b[49m\u001b[43mdialect\u001b[49m\u001b[43m.\u001b[49m\u001b[43mdo_execute\u001b[49m\u001b[43m(\u001b[49m\n\u001b[32m   1965\u001b[39m \u001b[43m            \u001b[49m\u001b[43mcursor\u001b[49m\u001b[43m,\u001b[49m\u001b[43m \u001b[49m\u001b[43mstr_statement\u001b[49m\u001b[43m,\u001b[49m\u001b[43m \u001b[49m\u001b[43meffective_parameters\u001b[49m\u001b[43m,\u001b[49m\u001b[43m \u001b[49m\u001b[43mcontext\u001b[49m\n\u001b[32m   1966\u001b[39m \u001b[43m        \u001b[49m\u001b[43m)\u001b[49m\n\u001b[32m   1968\u001b[39m \u001b[38;5;28;01mif\u001b[39;00m \u001b[38;5;28mself\u001b[39m._has_events \u001b[38;5;129;01mor\u001b[39;00m \u001b[38;5;28mself\u001b[39m.engine._has_events:\n\u001b[32m   1969\u001b[39m     \u001b[38;5;28mself\u001b[39m.dispatch.after_cursor_execute(\n\u001b[32m   1970\u001b[39m         \u001b[38;5;28mself\u001b[39m,\n\u001b[32m   1971\u001b[39m         cursor,\n\u001b[32m   (...)\u001b[39m\u001b[32m   1975\u001b[39m         context.executemany,\n\u001b[32m   1976\u001b[39m     )\n",
      "\u001b[36mFile \u001b[39m\u001b[32m~/local_llm_lab/local_rag/venv/lib/python3.12/site-packages/sqlalchemy/engine/default.py:942\u001b[39m, in \u001b[36mDefaultDialect.do_execute\u001b[39m\u001b[34m(self, cursor, statement, parameters, context)\u001b[39m\n\u001b[32m    941\u001b[39m \u001b[38;5;28;01mdef\u001b[39;00m\u001b[38;5;250m \u001b[39m\u001b[34mdo_execute\u001b[39m(\u001b[38;5;28mself\u001b[39m, cursor, statement, parameters, context=\u001b[38;5;28;01mNone\u001b[39;00m):\n\u001b[32m--> \u001b[39m\u001b[32m942\u001b[39m     \u001b[43mcursor\u001b[49m\u001b[43m.\u001b[49m\u001b[43mexecute\u001b[49m\u001b[43m(\u001b[49m\u001b[43mstatement\u001b[49m\u001b[43m,\u001b[49m\u001b[43m \u001b[49m\u001b[43mparameters\u001b[49m\u001b[43m)\u001b[49m\n",
      "\u001b[36mFile \u001b[39m\u001b[32m~/local_llm_lab/local_rag/venv/lib/python3.12/site-packages/psycopg/cursor.py:97\u001b[39m, in \u001b[36mCursor.execute\u001b[39m\u001b[34m(self, query, params, prepare, binary)\u001b[39m\n\u001b[32m     93\u001b[39m         \u001b[38;5;28mself\u001b[39m._conn.wait(\n\u001b[32m     94\u001b[39m             \u001b[38;5;28mself\u001b[39m._execute_gen(query, params, prepare=prepare, binary=binary)\n\u001b[32m     95\u001b[39m         )\n\u001b[32m     96\u001b[39m \u001b[38;5;28;01mexcept\u001b[39;00m e._NO_TRACEBACK \u001b[38;5;28;01mas\u001b[39;00m ex:\n\u001b[32m---> \u001b[39m\u001b[32m97\u001b[39m     \u001b[38;5;28;01mraise\u001b[39;00m ex.with_traceback(\u001b[38;5;28;01mNone\u001b[39;00m)\n\u001b[32m     98\u001b[39m \u001b[38;5;28;01mreturn\u001b[39;00m \u001b[38;5;28mself\u001b[39m\n",
      "\u001b[31mIntegrityError\u001b[39m: (psycopg.errors.NotNullViolation) null value in column \"name\" of relation \"langchain_pg_collection\" violates not-null constraint\nDETAIL:  Failing row contains (e4795516-05a2-4e2d-84a0-9f3ef8cd9142, null, null).\n[SQL: INSERT INTO langchain_pg_collection (uuid, name, cmetadata) VALUES (%(uuid)s::UUID, %(name)s::VARCHAR, %(cmetadata)s::JSON)]\n[parameters: {'uuid': UUID('e4795516-05a2-4e2d-84a0-9f3ef8cd9142'), 'name': None, 'cmetadata': Json(None)}]\n(Background on this error at: https://sqlalche.me/e/20/gkpj)"
     ]
    }
   ],
   "source": [
    "load_retriever = initialize_retriever()"
   ]
  },
  {
   "cell_type": "markdown",
   "metadata": {},
   "source": [
    "### Add Summary to vectorstore & Raw data to RedisStore"
   ]
  },
  {
   "cell_type": "code",
   "execution_count": 74,
   "metadata": {},
   "outputs": [],
   "source": [
    "# Store text, tables, and their summaries in the retriever\n",
    "\n",
    "def store_docs_in_retriever(text, text_summary, table, table_summary, retriever):\n",
    "    \"\"\"Store text and table documents along with their summaries in the retriever.\"\"\"\n",
    "\n",
    "    def add_documents_to_retriever(documents, summaries, retriever, id_key = \"doc_id\"):\n",
    "        \"\"\"Helper function to add documents and their summaries to the retriever.\"\"\"\n",
    "        if not summaries:\n",
    "            return None, []\n",
    "\n",
    "        doc_ids = [str(uuid.uuid4()) for _ in documents]\n",
    "        summary_docs = [\n",
    "            Document(page_content=summary, metadata={id_key: doc_ids[i]})\n",
    "            for i, summary in enumerate(summaries)\n",
    "        ]\n",
    "\n",
    "        retriever.vectorstore.add_documents(summary_docs, ids=doc_ids)\n",
    "        retriever.docstore.mset(list(zip(doc_ids, documents)))\n",
    "\n",
    "# Add text, table, and image summaries to the retriever\n",
    "    add_documents_to_retriever(text, text_summary, retriever)\n",
    "    add_documents_to_retriever(table, table_summary, retriever)\n",
    "    return retriever"
   ]
  },
  {
   "cell_type": "code",
   "execution_count": 75,
   "metadata": {},
   "outputs": [
    {
     "ename": "NameError",
     "evalue": "name 'load_retriever' is not defined",
     "output_type": "error",
     "traceback": [
      "\u001b[31m---------------------------------------------------------------------------\u001b[39m",
      "\u001b[31mNameError\u001b[39m                                 Traceback (most recent call last)",
      "\u001b[36mCell\u001b[39m\u001b[36m \u001b[39m\u001b[32mIn[75]\u001b[39m\u001b[32m, line 1\u001b[39m\n\u001b[32m----> \u001b[39m\u001b[32m1\u001b[39m retriever  = store_docs_in_retriever(text, text_summary, tables,  tables_summary, \u001b[43mload_retriever\u001b[49m)\n",
      "\u001b[31mNameError\u001b[39m: name 'load_retriever' is not defined"
     ]
    }
   ],
   "source": [
    "retriever  = store_docs_in_retriever(text, text_summary, tables,  tables_summary, load_retriever)\n"
   ]
  },
  {
   "cell_type": "code",
   "execution_count": 22,
   "metadata": {},
   "outputs": [],
   "source": [
    "query = \"What is the comparison of the composition of red meat and vegetarian protein sources\"\n"
   ]
  },
  {
   "cell_type": "code",
   "execution_count": 23,
   "metadata": {},
   "outputs": [],
   "source": [
    "docs = retriever.invoke(query)"
   ]
  },
  {
   "cell_type": "code",
   "execution_count": 24,
   "metadata": {},
   "outputs": [
    {
     "data": {
      "text/plain": [
       "[b'1. Folate values from US data [39]; all other values from NUTTAB 2006 [38]\\n\\n10\\n\\nTable 6. Percentage of male adult recommended dietary intake (RDI) or adequate intake (AI)\\n\\nprovided by 100g of lean red meat and some vegetarian protein sources',\n",
       " b'2) Nutrient composition of red meat\\n\\nRed meat contains high biological value protein and important micronutrients that are needed for good health throughout life. It also contains a range of fats, including essential omega-3 polyunsaturated fats. Recent analyses have shown that there has been a significant trend to leaner cuts of meat over the past two decades [3]. While the nutritional composition will vary somewhat according to breed, feeding regimen, season and meat cut, in general lean red meat has a low fat content, is moderate in cholesterol and rich in protein and many essential vitamins and minerals.\\n\\n1\\n\\n2.1 Nutrient composition of beef, veal, lamb and mutton\\n\\nTable 1 presents the typical nutrient composition of samples of fat-trimmed Australian red meat, based on recent analyses of national retail samples [4-6] and compares this to the new Australian recommended dietary intakes [7]. While there are some differences between the four meats, in general lean red meat is a particularly good source of protein, niacin, vitamin B6, vitamin B12, phosphorus, zinc and iron, with 100g providing more than 25% RDI of these nutrients. It also provides more than 10% RDI of riboflavin, pantothenic acid, and selenium. Of the four meats, mutton is particularly nutrient dense, and the richest source of thiamin, vitamins B6 and B12, phosphorus, iron and copper.\\n\\nProtein and amino acids\\n\\nRaw red muscle meat contains around 20-25g protein/100g. Cooked red meat contains 28- 36g/100g, because the water content decreases and nutrients become more concentrated during cooking. The protein is highly digestible, around 94% compared to the digestibility of 78% in beans and 86% in whole wheat [8]. Protein from meat provides all essential amino acids (lysine, threonine, methionine, phenylalanine, tryptophan, leucine, isoleucine, valine) and has no limiting amino acids. Protein Digestibility Corrected Amino Acid Score (PDCAAS) is a method of evaluating the protein quality, with a maximum possible score of 1.0. Animal meats like beef have a score of approximately 0.9, compared to values of 0.5-0.7 for most plant foods [9]. The amino acid glutamic acid/glutamine is present in meat in the highest amounts (16.5%), followed by arginine, alanine, and aspartic acid.',\n",
       " b'Table 1. Nutrient composition (per 100g) of lean red meat [4-6]',\n",
       " b'University of Wollongong\\n\\nResearch Online\\n\\nFaculty of Health and Behavioural Sciences - Papers (Archive)\\n\\nFaculty of Science, Medicine and Health\\n\\nSeptember 2007\\n\\nNutritional composition of red meat\\n\\nP. G. Williams University of Wollongong, peterw@uow.edu.au\\n\\nFollow this and additional works at: https://ro.uow.edu.au/hbspapers\\n\\nPart of the Arts and Humanities Commons, Life Sciences Commons, Medicine and Health Sciences Commons, and the Social and Behavioral Sciences Commons\\n\\nRecommended Citation\\n\\nWilliams, P. G.: Nutritional composition of red meat 2007. https://ro.uow.edu.au/hbspapers/48\\n\\nResearch Online is the open access institutional repository for the University of Wollongong. For further information contact the UOW Library: research-pubs@uow.edu.au\\n\\nNutritional composition of red meat\\n\\nAbstract\\n\\nLean red meats are: \\xe2\\x80\\xa2 An excellent source of high biological value protein, vitamin B12, niacin, vitamin B6, iron, zinc and phosphorus \\xe2\\x80\\xa2 A source of long-chain omega-3 polyunsaturated fats, riboflavin, pantothenic acid, selenium and possibly also vitamin D \\xe2\\x80\\xa2 Mostly low in fat and sodium \\xe2\\x80\\xa2 Sources of a range of endogenous antioxidants and other bioactive substances including taurine, carnitine, carnosine, ubiquinone, glutathione and creatine.\\n\\nKeywords\\n\\nred meat, nutrients, beef, lamb, mutton, veal\\n\\nDisciplines\\n\\nArts and Humanities | Life Sciences | Medicine and Health Sciences | Social and Behavioral Sciences\\n\\nPublication Details\\n\\nThis article was originally published as: Williams, PG, Nutritional composition of red meat, Nutrition & Dietetics, 2007, 64(Suppl 4), S113-S119. The definitive version is available at www.blackwell-synergy.com. Nutrition & Dietetics is the official journal of the Dietitians Association of Australia. Copyright 2007 Blackwell Publishing.\\n\\nThis journal article is available at Research Online: https://ro.uow.edu.au/hbspapers/48\\n\\nThe Nutritional Composition of Red Meat\\n\\nAssoc Prof Peter Williams PhD FDAA\\n\\nSmart Foods Centre, University of Wollongong']"
      ]
     },
     "execution_count": 24,
     "metadata": {},
     "output_type": "execute_result"
    }
   ],
   "source": [
    "docs"
   ]
  },
  {
   "cell_type": "markdown",
   "metadata": {},
   "source": [
    "### RAG Pipeline"
   ]
  },
  {
   "cell_type": "markdown",
   "metadata": {},
   "source": [
    "#### Parse the retriever output"
   ]
  },
  {
   "cell_type": "code",
   "execution_count": null,
   "metadata": {},
   "outputs": [],
   "source": [
    "def parse_retriver_output(data):\n",
    "    parsed_elements = []\n",
    "    for element in data:\n",
    "        # Decode bytes to string if necessary\n",
    "        if isinstance(element, bytes):\n",
    "            element = element.decode(\"utf-8\")\n",
    "\n",
    "        parsed_elements.append(element)\n",
    "\n",
    "    return parsed_elements\n"
   ]
  },
  {
   "cell_type": "markdown",
   "metadata": {},
   "source": [
    "#### Chat with the LLM using retrieved context"
   ]
  },
  {
   "cell_type": "code",
   "execution_count": null,
   "metadata": {},
   "outputs": [],
   "source": [
    "def chat_with_llm():\n",
    "\n",
    "\n",
    "    prompt_text = \"\"\"\n",
    "                You are an AI Assistant tasked with understanding detailed\n",
    "                information from text and tables. You are to answer the question based on the\n",
    "                context provided to you. You must not go beyond the context given to you.\n",
    "\n",
    "                Context:\n",
    "                {context}\n",
    "\n",
    "                Question:\n",
    "                {question}\n",
    "                \"\"\"\n",
    "\n",
    "    prompt = ChatPromptTemplate.from_template(prompt_text)\n",
    "    model = ChatOpenAI(temperature=0.6, model=\"gpt-4o-mini\")\n",
    "\n",
    "    rag_chain = {\n",
    "       \"context\": retriever | RunnableLambda(parse_retriver_output), \"question\": RunnablePassthrough(),\n",
    "        } | RunnablePassthrough().assign(\n",
    "        response=(\n",
    "        prompt\n",
    "        | model\n",
    "        | StrOutputParser()\n",
    "        )\n",
    "        )\n",
    "\n",
    "    return rag_chain\n",
    "\n",
    "\n"
   ]
  },
  {
   "cell_type": "code",
   "execution_count": 27,
   "metadata": {},
   "outputs": [],
   "source": [
    "rag_chain = chat_with_llm()"
   ]
  },
  {
   "cell_type": "code",
   "execution_count": 28,
   "metadata": {},
   "outputs": [],
   "source": [
    "response = rag_chain.invoke(\"What is the nutrient composition of beef, veal, lamb and mutton\")"
   ]
  },
  {
   "cell_type": "code",
   "execution_count": 29,
   "metadata": {},
   "outputs": [
    {
     "data": {
      "text/plain": [
       "{'context': ['<table><tr><td/><td>Beef</td><td>Veal</td><td>Lamb</td><td>Mutton</td><td>Adult Australian RDI</td></tr><tr><td>Moisture (g)</td><td>73.1</td><td>74.8</td><td>72.9</td><td>73.2</td><td/></tr><tr><td>Protein (g)</td><td>23.2</td><td>24.8</td><td>21.9</td><td>21.5</td><td>46-64</td></tr><tr><td>Fat (g)</td><td>2.8</td><td>1.5</td><td>4.7</td><td>4.0</td><td>-</td></tr><tr><td>Energy (kJ)</td><td>498</td><td>477</td><td>546</td><td>514</td><td>6.5-15.8MJ</td></tr><tr><td>Cholesterol (mg)</td><td>50</td><td>51</td><td>66</td><td>66</td><td>-</td></tr><tr><td>Thiamin (mg)</td><td>0.04</td><td>0.06</td><td>0.12</td><td>0.16</td><td>1.1-1.2</td></tr><tr><td>Riboflavin (mg)</td><td>0.18</td><td>0.20</td><td>0.23</td><td>0.25</td><td>1.1-1.6</td></tr><tr><td>Niacin (mg)</td><td>5.0</td><td>16.0</td><td>5.2</td><td>8.0</td><td>14-16</td></tr><tr><td>Vitamin B6 (mg)</td><td>0.52</td><td>0.8</td><td>0.10</td><td>0.8</td><td>1.3-1.7</td></tr><tr><td>Vitamin B12 (ug)</td><td>2.5</td><td>1.6</td><td>0.96</td><td>2.8</td><td>2.4</td></tr><tr><td>Pantothenic acid (mg)</td><td>0.35</td><td>1.50</td><td>0.74</td><td>1.33</td><td>4-6</td></tr><tr><td>Vitamin A (ug)</td><td>&lt;5</td><td>&lt;5</td><td>8.6</td><td>7.8</td><td>700-900ug RE*</td></tr><tr><td>Beta-carotene (ug)</td><td>10</td><td>&lt;5</td><td>&lt;5</td><td>&lt;5</td><td>700-900pg RE*</td></tr><tr><td>Alpha-tocopherol (mg)</td><td>0.63</td><td>0.50</td><td>0.44</td><td>0.20</td><td>7-10</td></tr><tr><td>Sodium (mg)</td><td>51</td><td>51</td><td>69</td><td>71</td><td>460-920</td></tr><tr><td>Potassium (mg)</td><td>363</td><td>362</td><td>344</td><td>365</td><td>2800-3800</td></tr><tr><td>Calcium (mg)</td><td>4.5</td><td>6.5</td><td>7.2</td><td>6.6</td><td>1000-1300</td></tr><tr><td>Iron (mg)</td><td>1.8</td><td>1.1</td><td>2.0</td><td>3.3</td><td>8-18</td></tr><tr><td>Zinc (mg)</td><td>4.6</td><td>4.2</td><td>4.5</td><td>3.9</td><td>8-14</td></tr><tr><td>Magnesium (mg)</td><td>25</td><td>26</td><td>28</td><td>28</td><td>310-420</td></tr><tr><td>Phosphorus (mg)</td><td>215</td><td>260</td><td>194</td><td>290</td><td>1000</td></tr><tr><td>Copper (mg)</td><td>0.12</td><td>0.08</td><td>0.12</td><td>0.22</td><td>1.2-1.7</td></tr></table>',\n",
       "  'Casserole, cooked\\n\\n7.7\\n\\n63\\n\\n8\\n\\nTable 4. Fatty acid profile of raw lean meats (g/100g edible portion)\\n\\nBeef1\\n\\nVeal1\\n\\nLamb1 Mutton1',\n",
       "  'Table 1. Nutrient composition (per 100g) of lean red meat [4-6]',\n",
       "  \"1. Average values from 2002 analyses of Australian red meat [4]\\n\\n2. Values from NUTTAB 2006 [38]\\n\\n11\\n\\nReferences\\n\\n1. Food Standards Australia New Zealand. Food Standards Code - Volume 2. Canberra: Information Australia, 2002.\\n\\n2. Beilken S, Eustace E, Eustace R. Composition of new meats - analyses and nutrient composition of innovative meat industries. RIRDC Publication No 07/036. Canberra: RIRDC, 2007. Cited 25 April 2007. Available at: http://www.rirdc.gov.au/reports/NAP/07-036.pdf.\\n\\n3. Williams P, Droulez V, Levy G et al. Nutrient composition of Australian red meat 2002. 1. Gross composition data. Food Aust 2006; 58: 173-181.\\n\\n4. Williams P, Droulez V, Levy G et al. Composition of Australian red meat 2002. 3. Nutrient profile. Food Aust 2007; 59(in press).\\n\\n5. Sadler M, Lewis J, Buick D. Composition of trim lamb. Food Aust 1993; 45(Suppl): S2-12.\\n\\n6. Sinclair A, Mann N, O'Connell S. The nutrient composition of Australian beef and lamb. Melbourne: RMIT, 1999.\\n\\n7. National Health and Medical Research Council. Nutrient Reference Values for Australia and New Zealand including Recommended Dietary Intakes. Canberra: Commonwealth Department of Health and Ageing, 2006.\\n\\n8. Bhutta Z. Protein: digestibility and availability. In: Encyclopedia of Human Nutrition. M Sadler, J Strain and B. Caballero (Editors). San Diego: Academic Press, 1999. p. 1646-1656.\\n\\n9. Schaafsma G. The Protein Digestibility-Corrected Amino Acid Score. J Nutr 2000; 130: 1865S-1867S.\\n\\n10. Cobiac L, Droulez V, Leppard P et al. Use of external fat width to describe beef and lamb cuts in food composition tables. J Food Comp Anal 2003; 16: 133-145.\\n\\n11. Greenfield H, Kuo Y, Hutchison G et al. Composition of Australian foods. 33. Lamb. Food Aust 1987; 39: 202-207.\\n\\n12. Greenfield, H, Kuo Y, Hutchison G et al., Composition of Australian foods. 34. Beef and veal. Food Aust 1987; 39: 208-215;227.\\n\\n13. Higgs J. The changing nature of red meat: 20 years of improving nutritional quality. Trends Food Sci Technol 2000; 11: 85-95.\\n\\n14. Sinclair A, O'Dea K. The lipid levels and fatty acid compositions of the lean portions of Australian beef and lamb. Food Technol Aust 1987; 39: 228-231.\\n\\n15. Marmer W, Maxwell R, Williams J. Effects of dietary regimen and tissue site on bovine fatty acid profiles. J Anim Sci 1984; 59: 109-121.\\n\\n16. Howe P, Meyer B, Record S et al. Dietary intakes of long-chain omega-3 polyunsaturated fatty acids: contribution of meat sources. Nutrition, 2006; 22: 47-53.\\n\\n17. Droulez V, Williams P, Levy G et al. Nutrient composition of Australian red meat 2002. 2. Fatty acid profile. Food Aust 2006; 58: 335-341.\\n\\n18. Zeisel S, Niculescu M. Choline and Phosphatidylcholine. In Modern Nutrition in Health and Disease. M Shils et al. (Editors). Philadelphia: Lippincott Williams & Wilkins, 2006. p. 525-536.\\n\\n19. Purchas R, Zou M, Pearce P et al. Concentrations of vitamin D3 and 2- hydroxyvitamin D3 in raw and cooked New Zealand beef and lamb. J Food Comp Anal 2007; 20: 90-98.\\n\\n20. Chan W, Brown J, Lee S et al. Meat, Poultry and Game. Fifth Supplement to McCance & Widdowson's The Composition of Foods. London: The Royal\\n\\n12\\n\\nSociety of Chemistry and the Ministry of Agriculture Fisheries and Food, 1995.\\n\\n21. Arihara K. Strategies for designing novel functional meat products. Meat Sci 2006; 74: 219-229.\\n\\n22. Purchas R, Rutherfurd S, Pearce P et al. Concentrations in beef and lamb of taurine, carnosine, coenzyme Q10, and creatine. Meat Sci 2004; 66: 629-637.\\n\\n23. Redmond H, Stapleton P, Neary P et al. Immunonutrition: the role of taurine. Nutr Cancer 1998; 14: 599-608.\\n\\n24. Bouckenooghe T, Remacle C, Reusens B. Is taurine a functional nutrient? Curr Opin Clin Nutr Metab Care 2006; 9: 728-733.\\n\\n25. Tanpaichitr V, Leelahagul P. Carnitine metabolism and human carnitine metabolism. Nutrition 1993; 9: 246-254.\\n\\n26. Mitchell M. Carnitine metabolism in human subjects 1. Normal metabolism. Am J Clin Nutr 1978; 31: 293-306.\\n\\n27. Shimada L, Sakuma Y, Wakamatsu J et al. Species and muscle differences in L-carnitine in skeletal muscles based on a new simple assay. Meat Sci 2004; 68: 357-362.\\n\\n28. Azain M. Conjugated linoleic acid and its effects on animal products and health in single-stomached animals. Proc Nutr Soc 2003; 62: 319-328.\\n\\n29. Dhiman T, Nam S, Ure A. Factors affecting conjugated linoleic acid content in milk and meat. Crit Rev Food Sci Nutr 2005; 45: 463-482.\\n\\n30. Decker E, Livisay S, Zhou S. Mechanisms of endogenous skeletal muscle antioxidants: chemical and physical aspects. In Antioxidants in muscle foods, E. Decker, C. Faustman and C. Lopez-Bote (Editors). New York: Wiley- Interscience, 2000. p. 25-60.\\n\\n31. Purchas R, Busboom J. The effect of production system and age on levels of iron, taurine, carnosine, coenzyme Q10, and creatine in beef muscles and lover. Meat Sci 2005; 70: 589-596.\\n\\n32. Decker E, Ivanov V, Zhu B et al. Inhibition of low density lipoprotein oxidation by carnosine and histidine. J Agric Food Chem 2001; 49: 511-516.\\n\\n33. Overvad K, Diamant B, Holm L et al. Coenzyme Q10 in health and disease. Eur J Clin Nutr 1999; 53: 764-770.\\n\\n34. Jones D, Coates R, Flagg E et al. Glutathione in foods listed in the National Cancer Institute's health habits and history food frequency questionnaire. Nutr Cancer, 1992; 17: 57-75.\"],\n",
       " 'question': 'What is the nutrient composition of beef, veal, lamb and mutton',\n",
       " 'response': 'The nutrient composition per 100g of lean red meat for beef, veal, lamb, and mutton is as follows:\\n\\n| Nutrient              | Beef  | Veal  | Lamb  | Mutton |\\n|----------------------|-------|-------|-------|--------|\\n| Moisture (g)         | 73.1  | 74.8  | 72.9  | 73.2   |\\n| Protein (g)          | 23.2  | 24.8  | 21.9  | 21.5   |\\n| Fat (g)              | 2.8   | 1.5   | 4.7   | 4.0    |\\n| Energy (kJ)          | 498   | 477   | 546   | 514    |\\n| Cholesterol (mg)     | 50    | 51    | 66    | 66     |\\n| Thiamin (mg)         | 0.04  | 0.06  | 0.12  | 0.16   |\\n| Riboflavin (mg)      | 0.18  | 0.20  | 0.23  | 0.25   |\\n| Niacin (mg)          | 5.0   | 16.0  | 5.2   | 8.0    |\\n| Vitamin B6 (mg)      | 0.52  | 0.80  | 0.10  | 0.80   |\\n| Vitamin B12 (µg)     | 2.5   | 1.6   | 0.96  | 2.8    |\\n| Pantothenic acid (mg) | 0.35  | 1.50  | 0.74  | 1.33   |\\n| Vitamin A (µg)       | <5    | <5    | 8.6   | 7.8    |\\n| Beta-carotene (µg)   | 10    | <5    | <5    | <5     |\\n| Alpha-tocopherol (mg) | 0.63  | 0.50  | 0.44  | 0.20   |\\n| Sodium (mg)          | 51    | 51    | 69    | 71     |\\n| Potassium (mg)       | 363   | 362   | 344   | 365    |\\n| Calcium (mg)         | 4.5   | 6.5   | 7.2   | 6.6    |\\n| Iron (mg)            | 1.8   | 1.1   | 2.0   | 3.3    |\\n| Zinc (mg)            | 4.6   | 4.2   | 4.5   | 3.9    |\\n| Magnesium (mg)       | 25    | 26    | 28    | 28     |\\n| Phosphorus (mg)      | 215   | 260   | 194   | 290    |\\n| Copper (mg)          | 0.12  | 0.08  | 0.12  | 0.22   |\\n\\nThis table summarizes the nutrient composition for each type of meat.'}"
      ]
     },
     "execution_count": 29,
     "metadata": {},
     "output_type": "execute_result"
    }
   ],
   "source": [
    "response"
   ]
  },
  {
   "cell_type": "code",
   "execution_count": 31,
   "metadata": {},
   "outputs": [
    {
     "name": "stdout",
     "output_type": "stream",
     "text": [
      "The nutrient composition per 100g of lean red meat for beef, veal, lamb, and mutton is as follows:\n",
      "\n",
      "| Nutrient              | Beef  | Veal  | Lamb  | Mutton |\n",
      "|----------------------|-------|-------|-------|--------|\n",
      "| Moisture (g)         | 73.1  | 74.8  | 72.9  | 73.2   |\n",
      "| Protein (g)          | 23.2  | 24.8  | 21.9  | 21.5   |\n",
      "| Fat (g)              | 2.8   | 1.5   | 4.7   | 4.0    |\n",
      "| Energy (kJ)          | 498   | 477   | 546   | 514    |\n",
      "| Cholesterol (mg)     | 50    | 51    | 66    | 66     |\n",
      "| Thiamin (mg)         | 0.04  | 0.06  | 0.12  | 0.16   |\n",
      "| Riboflavin (mg)      | 0.18  | 0.20  | 0.23  | 0.25   |\n",
      "| Niacin (mg)          | 5.0   | 16.0  | 5.2   | 8.0    |\n",
      "| Vitamin B6 (mg)      | 0.52  | 0.80  | 0.10  | 0.80   |\n",
      "| Vitamin B12 (µg)     | 2.5   | 1.6   | 0.96  | 2.8    |\n",
      "| Pantothenic acid (mg) | 0.35  | 1.50  | 0.74  | 1.33   |\n",
      "| Vitamin A (µg)       | <5    | <5    | 8.6   | 7.8    |\n",
      "| Beta-carotene (µg)   | 10    | <5    | <5    | <5     |\n",
      "| Alpha-tocopherol (mg) | 0.63  | 0.50  | 0.44  | 0.20   |\n",
      "| Sodium (mg)          | 51    | 51    | 69    | 71     |\n",
      "| Potassium (mg)       | 363   | 362   | 344   | 365    |\n",
      "| Calcium (mg)         | 4.5   | 6.5   | 7.2   | 6.6    |\n",
      "| Iron (mg)            | 1.8   | 1.1   | 2.0   | 3.3    |\n",
      "| Zinc (mg)            | 4.6   | 4.2   | 4.5   | 3.9    |\n",
      "| Magnesium (mg)       | 25    | 26    | 28    | 28     |\n",
      "| Phosphorus (mg)      | 215   | 260   | 194   | 290    |\n",
      "| Copper (mg)          | 0.12  | 0.08  | 0.12  | 0.22   |\n",
      "\n",
      "This table summarizes the nutrient composition for each type of meat.\n"
     ]
    }
   ],
   "source": [
    "print(response['response'])"
   ]
  },
  {
   "cell_type": "code",
   "execution_count": 32,
   "metadata": {},
   "outputs": [],
   "source": [
    "response = rag_chain.invoke(\"What is the nutrient composition of organ meats\")"
   ]
  },
  {
   "cell_type": "code",
   "execution_count": 34,
   "metadata": {},
   "outputs": [
    {
     "name": "stdout",
     "output_type": "stream",
     "text": [
      "The nutrient composition of organ meats (specifically liver, kidney, heart, brain, and tripe from beef and lamb) includes the following key points:\n",
      "\n",
      "1. **Vitamin B12**: All organ meats (except tripe) are extremely rich in vitamin B12, providing more than 100% of the Recommended Daily Intake (RDI) in 100g.\n",
      "\n",
      "2. **Liver**: \n",
      "   - Rich source of protein, iron, zinc, riboflavin, niacin, vitamin A, and folate.\n",
      "\n",
      "3. **Kidney**: \n",
      "   - Rich in protein, thiamin, riboflavin, iron, and a source of folate.\n",
      "\n",
      "4. **Heart**: \n",
      "   - A good source of iron and zinc, but not as rich as liver and kidney.\n",
      "\n",
      "5. **Brain and Tripe**: \n",
      "   - Not particularly good sources of vitamins or minerals.\n",
      "\n",
      "6. **Cholesterol**: \n",
      "   - All organ meats are high in cholesterol, especially brains.\n",
      "\n",
      "7. **Sodium**: \n",
      "   - Generally low in sodium across all organ meats.\n",
      "\n",
      "8. **Liver Warning**: \n",
      "   - Liver is such a rich source of retinol (vitamin A) that large amounts are not recommended during pregnancy. \n",
      "\n",
      "These points indicate that organ meats are nutrient-dense, particularly in terms of certain vitamins and minerals, making them valuable in a diet.\n"
     ]
    }
   ],
   "source": [
    "print(response['response'])"
   ]
  },
  {
   "cell_type": "markdown",
   "metadata": {},
   "source": []
  },
  {
   "cell_type": "code",
   "execution_count": 95,
   "metadata": {},
   "outputs": [],
   "source": [
    "response = rag_chain.invoke(\"What is Meat?\")"
   ]
  },
  {
   "cell_type": "code",
   "execution_count": null,
   "metadata": {},
   "outputs": [],
   "source": []
  },
  {
   "cell_type": "code",
   "execution_count": null,
   "metadata": {},
   "outputs": [],
   "source": []
  }
 ],
 "metadata": {
  "kernelspec": {
   "display_name": "venv",
   "language": "python",
   "name": "python3"
  },
  "language_info": {
   "codemirror_mode": {
    "name": "ipython",
    "version": 3
   },
   "file_extension": ".py",
   "mimetype": "text/x-python",
   "name": "python",
   "nbconvert_exporter": "python",
   "pygments_lexer": "ipython3",
   "version": "3.12.3"
  }
 },
 "nbformat": 4,
 "nbformat_minor": 2
}
