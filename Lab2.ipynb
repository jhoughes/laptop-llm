{
 "cells": [
  {
   "cell_type": "markdown",
   "metadata": {},
   "source": [
    "Step 1 - Create OpenAI Organization & API Key, add API Key to Open WebUI"
   ]
  },
  {
   "cell_type": "markdown",
   "metadata": {},
   "source": [
    "Step 2 - Use Open WebUI to add OpenAI API Key and see new models"
   ]
  },
  {
   "cell_type": "markdown",
   "metadata": {},
   "source": [
    "Step 3 - Git clone LiteLLM, view Dockerfile, install LiteLLM"
   ]
  },
  {
   "cell_type": "code",
   "execution_count": null,
   "metadata": {
    "vscode": {
     "languageId": "plaintext"
    }
   },
   "outputs": [],
   "source": [
    "cd ~/local_llm_lab\n",
    "\n",
    "git clone https://github.com/BerriAI/litellm.git\n",
    "\n",
    "cd litellm\n",
    "\n",
    "nano .env\n",
    "\n",
    "#LITELLM_MASTER_KEY = \"sk-Gf7CGNjPxx\"\n",
    "#LITELLM_SALT_KEY = \"sk-knqhxxPj698h\"\n",
    "\n",
    "docker compose up -data"
   ]
  },
  {
   "cell_type": "markdown",
   "metadata": {},
   "source": [
    "Step 4 - Browse LiteLLM UI, add Anthropic models, add LiteLLM to Open WebUI"
   ]
  },
  {
   "cell_type": "markdown",
   "metadata": {},
   "source": [
    "Step 5 - Chat with new models in Open WebUI"
   ]
  },
  {
   "cell_type": "markdown",
   "metadata": {},
   "source": [
    "Step 6 - Add DeepSeek-r1 model in OpenWebUI, demo multiple LLM responses concurrently, watch LLM processes switch in Docker"
   ]
  }
 ],
 "metadata": {
  "language_info": {
   "name": "python"
  }
 },
 "nbformat": 4,
 "nbformat_minor": 2
}
